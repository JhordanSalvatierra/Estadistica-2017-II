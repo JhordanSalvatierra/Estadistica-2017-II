{
 "cells": [
  {
   "cell_type": "markdown",
   "metadata": {},
   "source": [
    "# **Laboratorio 4-Ejercicios**"
   ]
  },
  {
   "cell_type": "markdown",
   "metadata": {},
   "source": [
    "**1) Usa R, para calcular las respuestas numericas de lo siguiente:**\n",
    "* 1+2(3+4) \n",
    "\n",
    "$\\\\frac{n}{ln(n)}$\n",
    "\n"
   ]
  },
  {
   "cell_type": "code",
   "execution_count": 7,
   "metadata": {
    "collapsed": false
   },
   "outputs": [
    {
     "data": {
      "text/html": [
       "15"
      ],
      "text/latex": [
       "15"
      ],
      "text/markdown": [
       "15"
      ],
      "text/plain": [
       "[1] 15"
      ]
     },
     "metadata": {},
     "output_type": "display_data"
    },
    {
     "data": {
      "text/html": [
       "91"
      ],
      "text/latex": [
       "91"
      ],
      "text/markdown": [
       "91"
      ],
      "text/plain": [
       "[1] 91"
      ]
     },
     "metadata": {},
     "output_type": "display_data"
    },
    {
     "data": {
      "text/html": [
       "4.58257569495584"
      ],
      "text/latex": [
       "4.58257569495584"
      ],
      "text/markdown": [
       "4.58257569495584"
      ],
      "text/plain": [
       "[1] 4.582576"
      ]
     },
     "metadata": {},
     "output_type": "display_data"
    },
    {
     "data": {
      "text/html": [
       "0.183673469387755"
      ],
      "text/latex": [
       "0.183673469387755"
      ],
      "text/markdown": [
       "0.183673469387755"
      ],
      "text/plain": [
       "[1] 0.1836735"
      ]
     },
     "metadata": {},
     "output_type": "display_data"
    }
   ],
   "source": [
    "\n",
    "#1.1) 1+2(3+4)\n",
    "\n",
    "1+2*(3+4)\n",
    "\n",
    "#1.2) 4^3+3^(2+1)\n",
    "\n",
    "4^3+3^(2+1)\n",
    "\n",
    "#1.3) ((4+3)*(2+1))^1/2\n",
    "\n",
    "sqrt((4+3)*(2+1))\n",
    "\n",
    "#1.4) ((1+2)/(3+4))^2\n",
    "\n",
    "((1+2)/(3+4))^2"
   ]
  }
 ],
 "metadata": {
  "kernelspec": {
   "display_name": "R",
   "language": "R",
   "name": "ir"
  },
  "language_info": {
   "codemirror_mode": "r",
   "file_extension": ".r",
   "mimetype": "text/x-r-source",
   "name": "R",
   "pygments_lexer": "r",
   "version": "3.3.0"
  }
 },
 "nbformat": 4,
 "nbformat_minor": 0
}
