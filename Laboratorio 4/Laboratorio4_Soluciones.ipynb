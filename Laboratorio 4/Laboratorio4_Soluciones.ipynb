{
 "cells": [
  {
   "cell_type": "markdown",
   "metadata": {},
   "source": [
    "**1) Usa R, para calcular las respuestas numericas de lo siguiente:**\n",
    "\n",
    "* $1+ 2(3+4)+1$\n",
    "\n",
    "\n",
    "* $4^3 + 3^{2+1}$\n",
    "\n",
    "\n",
    "* $\\sqrt[]{(4+3)(2+1)}$\n",
    "\n",
    "\n",
    "* $(\\frac{1+2}{3+4})^2$"
   ]
  },
  {
   "cell_type": "code",
   "execution_count": 5,
   "metadata": {
    "collapsed": false
   },
   "outputs": [
    {
     "data": {
      "text/html": [
       "15"
      ],
      "text/latex": [
       "15"
      ],
      "text/markdown": [
       "15"
      ],
      "text/plain": [
       "[1] 15"
      ]
     },
     "metadata": {},
     "output_type": "display_data"
    }
   ],
   "source": [
    "#1.1) 1+2(3+4)\n",
    "\n",
    "1+2*(3+4)"
   ]
  },
  {
   "cell_type": "code",
   "execution_count": 1,
   "metadata": {
    "collapsed": false
   },
   "outputs": [
    {
     "data": {
      "text/html": [
       "91"
      ],
      "text/latex": [
       "91"
      ],
      "text/markdown": [
       "91"
      ],
      "text/plain": [
       "[1] 91"
      ]
     },
     "metadata": {},
     "output_type": "display_data"
    }
   ],
   "source": [
    "#1.2) 4^3+3^(2+1)\n",
    "\n",
    "4^3+3^(2+1)"
   ]
  },
  {
   "cell_type": "code",
   "execution_count": 2,
   "metadata": {
    "collapsed": false
   },
   "outputs": [
    {
     "data": {
      "text/html": [
       "4.58257569495584"
      ],
      "text/latex": [
       "4.58257569495584"
      ],
      "text/markdown": [
       "4.58257569495584"
      ],
      "text/plain": [
       "[1] 4.582576"
      ]
     },
     "metadata": {},
     "output_type": "display_data"
    }
   ],
   "source": [
    "#1.3) ((4+3)*(2+1))^1/2\n",
    "\n",
    "sqrt((4+3)*(2+1))"
   ]
  },
  {
   "cell_type": "code",
   "execution_count": 3,
   "metadata": {
    "collapsed": false
   },
   "outputs": [
    {
     "data": {
      "text/html": [
       "0.183673469387755"
      ],
      "text/latex": [
       "0.183673469387755"
      ],
      "text/markdown": [
       "0.183673469387755"
      ],
      "text/plain": [
       "[1] 0.1836735"
      ]
     },
     "metadata": {},
     "output_type": "display_data"
    }
   ],
   "source": [
    "#1.4) ((1+2)/(3+4))^2\n",
    "\n",
    "((1+2)/(3+4))^2"
   ]
  },
  {
   "cell_type": "markdown",
   "metadata": {},
   "source": [
    "** 2)La función sd calcula la desviación estándar. Calcula la desviación estándar desde el 0 al 100**\n"
   ]
  },
  {
   "cell_type": "code",
   "execution_count": 6,
   "metadata": {
    "collapsed": false
   },
   "outputs": [
    {
     "data": {
      "text/html": [
       "29.3001706479672"
      ],
      "text/latex": [
       "29.3001706479672"
      ],
      "text/markdown": [
       "29.3001706479672"
      ],
      "text/plain": [
       "[1] 29.30017"
      ]
     },
     "metadata": {},
     "output_type": "display_data"
    }
   ],
   "source": [
    "sd(0:100)"
   ]
  },
  {
   "cell_type": "markdown",
   "metadata": {},
   "source": [
    "** 3)Vea la demostración de símbolos matemáticos,usando demo(plotmath) **"
   ]
  },
  {
   "cell_type": "code",
   "execution_count": 10,
   "metadata": {
    "collapsed": false
   },
   "outputs": [
    {
     "name": "stdout",
     "output_type": "stream",
     "text": [
      "\n",
      "\n",
      "\tdemo(plotmath)\n",
      "\t---- ~~~~~~~~\n",
      "\n",
      "> #  Copyright (C) 2002-2009 The R Core Team\n",
      "> \n",
      "> require(datasets)\n",
      "\n",
      "> require(grDevices); require(graphics)\n",
      "\n",
      "> ## --- \"math annotation\" in plots :\n",
      "> \n",
      "> ######\n",
      "> # create tables of mathematical annotation functionality\n",
      "> ######\n",
      "> make.table <- function(nr, nc) {\n",
      "+     savepar <- par(mar=rep(0, 4), pty=\"s\")\n",
      "+     plot(c(0, nc*2 + 1), c(0, -(nr + 1)),\n",
      "+          type=\"n\", xlab=\"\", ylab=\"\", axes=FALSE)\n",
      "+     savepar\n",
      "+ }\n",
      "\n",
      "> get.r <- function(i, nr) {\n",
      "+     i %% nr + 1\n",
      "+ }\n",
      "\n",
      "> get.c <- function(i, nr) {\n",
      "+     i %/% nr + 1\n",
      "+ }\n",
      "\n",
      "> draw.title.cell <- function(title, i, nr) {\n",
      "+     r <- get.r(i, nr)\n",
      "+     c <- get.c(i, nr)\n",
      "+     text(2*c - .5, -r, title)\n",
      "+     rect((2*(c - 1) + .5), -(r - .5), (2*c + .5), -(r + .5))\n",
      "+ }\n",
      "\n",
      "> draw.plotmath.cell <- function(expr, i, nr, string = NULL) {\n",
      "+     r <- get.r(i, nr)\n",
      "+     c <- get.c(i, nr)\n",
      "+     if (is.null(string)) {\n",
      "+         string <- deparse(expr)\n",
      "+         string <- substr(string, 12, nchar(string) - 1)\n",
      "+     }\n",
      "+     text((2*(c - 1) + 1), -r, string, col=\"grey\")\n",
      "+     text((2*c), -r, expr, adj=c(.5,.5))\n",
      "+     rect((2*(c - 1) + .5), -(r - .5), (2*c + .5), -(r + .5), border=\"grey\")\n",
      "+ }\n",
      "\n",
      "> nr <- 20\n",
      "\n",
      "> nc <- 2\n",
      "\n",
      "> oldpar <- make.table(nr, nc)\n",
      "\n",
      "> i <- 0\n",
      "\n",
      "> draw.title.cell(\"Arithmetic Operators\", i, nr); i <- i + 1\n",
      "\n",
      "> draw.plotmath.cell(expression(x + y), i, nr); i <- i + 1\n",
      "\n",
      "> draw.plotmath.cell(expression(x - y), i, nr); i <- i + 1\n",
      "\n",
      "> draw.plotmath.cell(expression(x * y), i, nr); i <- i + 1\n",
      "\n",
      "> draw.plotmath.cell(expression(x / y), i, nr); i <- i + 1\n",
      "\n",
      "> draw.plotmath.cell(expression(x %+-% y), i, nr); i <- i + 1\n",
      "\n",
      "> draw.plotmath.cell(expression(x %/% y), i, nr); i <- i + 1\n",
      "\n",
      "> draw.plotmath.cell(expression(x %*% y), i, nr); i <- i + 1\n",
      "\n",
      "> draw.plotmath.cell(expression(x %.% y), i, nr); i <- i + 1\n",
      "\n",
      "> draw.plotmath.cell(expression(-x), i, nr); i <- i + 1\n",
      "\n",
      "> draw.plotmath.cell(expression(+x), i, nr); i <- i + 1\n",
      "\n",
      "> draw.title.cell(\"Sub/Superscripts\", i, nr); i <- i + 1\n",
      "\n",
      "> draw.plotmath.cell(expression(x[i]), i, nr); i <- i + 1\n",
      "\n",
      "> draw.plotmath.cell(expression(x^2), i, nr); i <- i + 1\n",
      "\n",
      "> draw.title.cell(\"Juxtaposition\", i, nr); i <- i + 1\n",
      "\n",
      "> draw.plotmath.cell(expression(x * y), i, nr); i <- i + 1\n",
      "\n",
      "> draw.plotmath.cell(expression(paste(x, y, z)), i, nr); i <- i + 1\n",
      "\n",
      "> draw.title.cell(\"Radicals\", i, nr); i <- i + 1\n",
      "\n",
      "> draw.plotmath.cell(expression(sqrt(x)), i, nr); i <- i + 1\n",
      "\n",
      "> draw.plotmath.cell(expression(sqrt(x, y)), i, nr); i <- i + 1\n",
      "\n",
      "> draw.title.cell(\"Lists\", i, nr); i <- i + 1\n",
      "\n",
      "> draw.plotmath.cell(expression(list(x, y, z)), i, nr); i <- i + 1\n",
      "\n",
      "> draw.title.cell(\"Relations\", i, nr); i <- i + 1\n",
      "\n",
      "> draw.plotmath.cell(expression(x == y), i, nr); i <- i + 1\n",
      "\n",
      "> draw.plotmath.cell(expression(x != y), i, nr); i <- i + 1\n",
      "\n",
      "> draw.plotmath.cell(expression(x < y), i, nr); i <- i + 1\n",
      "\n",
      "> draw.plotmath.cell(expression(x <= y), i, nr); i <- i + 1\n",
      "\n",
      "> draw.plotmath.cell(expression(x > y), i, nr); i <- i + 1\n",
      "\n",
      "> draw.plotmath.cell(expression(x >= y), i, nr); i <- i + 1\n",
      "\n",
      "> draw.plotmath.cell(expression(x %~~% y), i, nr); i <- i + 1\n",
      "\n",
      "> draw.plotmath.cell(expression(x %=~% y), i, nr); i <- i + 1\n",
      "\n",
      "> draw.plotmath.cell(expression(x %==% y), i, nr); i <- i + 1\n",
      "\n",
      "> draw.plotmath.cell(expression(x %prop% y), i, nr); i <- i + 1\n",
      "\n",
      "> draw.plotmath.cell(expression(x %~% y), i, nr); i <- i + 1\n",
      "\n",
      "> draw.title.cell(\"Typeface\", i, nr); i <- i + 1\n",
      "\n",
      "> draw.plotmath.cell(expression(plain(x)), i, nr); i <- i + 1\n",
      "\n",
      "> draw.plotmath.cell(expression(italic(x)), i, nr); i <- i + 1\n",
      "\n",
      "> draw.plotmath.cell(expression(bold(x)), i, nr); i <- i + 1\n",
      "\n",
      "> draw.plotmath.cell(expression(bolditalic(x)), i, nr); i <- i + 1\n",
      "\n",
      "> draw.plotmath.cell(expression(underline(x)), i, nr); i <- i + 1\n",
      "\n",
      "> # Need fewer, wider columns for ellipsis ...\n",
      "> nr <- 20\n",
      "\n",
      "> nc <- 2\n",
      "\n",
      "> make.table(nr, nc)\n"
     ]
    },
    {
     "ename": "ERROR",
     "evalue": "Error in loadNamespace(name): there is no package called 'Cairo'\n",
     "output_type": "error",
     "traceback": [
      "Error in loadNamespace(name): there is no package called 'Cairo'\nTraceback:\n",
      "1. demo(plotmath)",
      "2. source(available, echo = echo, max.deparse.length = Inf, keep.source = TRUE, \n .     encoding = encoding)",
      "3. withVisible(eval(ei, envir))",
      "4. eval(ei, envir)",
      "5. eval(expr, envir, enclos)",
      "6. make.table(nr, nc)   # at line 139 of file C:/Program Files/R/R-3.3.0/library/graphics/demo/plotmath.R",
      "7. plot(c(0, nc * 2 + 1), c(0, -(nr + 1)), type = \"n\", xlab = \"\", \n .     ylab = \"\", axes = FALSE)   # at line 13-14 of file C:/Program Files/R/R-3.3.0/library/graphics/demo/plotmath.R",
      "8. plot.default(c(0, nc * 2 + 1), c(0, -(nr + 1)), type = \"n\", xlab = \"\", \n .     ylab = \"\", axes = FALSE)",
      "9. plot.new()",
      "10. try(fun())",
      "11. tryCatch(expr, error = function(e) {\n  .     call <- conditionCall(e)\n  .     if (!is.null(call)) {\n  .         if (identical(call[[1L]], quote(doTryCatch))) \n  .             call <- sys.call(-4L)\n  .         dcall <- deparse(call)[1L]\n  .         prefix <- paste(\"Error in\", dcall, \": \")\n  .         LONG <- 75L\n  .         msg <- conditionMessage(e)\n  .         sm <- strsplit(msg, \"\\n\")[[1L]]\n  .         w <- 14L + nchar(dcall, type = \"w\") + nchar(sm[1L], type = \"w\")\n  .         if (is.na(w)) \n  .             w <- 14L + nchar(dcall, type = \"b\") + nchar(sm[1L], \n  .                 type = \"b\")\n  .         if (w > LONG) \n  .             prefix <- paste0(prefix, \"\\n  \")\n  .     }\n  .     else prefix <- \"Error : \"\n  .     msg <- paste0(prefix, conditionMessage(e), \"\\n\")\n  .     .Internal(seterrmessage(msg[1L]))\n  .     if (!silent && identical(getOption(\"show.error.messages\"), \n  .         TRUE)) {\n  .         cat(msg, file = stderr())\n  .         .Internal(printDeferredWarnings())\n  .     }\n  .     invisible(structure(msg, class = \"try-error\", condition = e))\n  . })",
      "12. tryCatchList(expr, classes, parentenv, handlers)",
      "13. tryCatchOne(expr, names, parentenv, handlers[[1L]])",
      "14. doTryCatch(return(expr), name, parentenv, handler)",
      "15. fun()",
      "16. handle_output(TRUE)",
      "17. w$get_new(plot, incomplete_plots, output_handler$text, output_handler$graphics)",
      "18. graphics_callback(out$graphics)",
      "19. send_plot(last_recorded_plot)",
      "20. tryCatch({\n  .     formats[[mime]] <- mime2repr[[mime]](plotobj, attr(plotobj, \n  .         \".irkernel_width\"), attr(plotobj, \".irkernel_height\"))\n  . }, error = handle_error)"
     ]
    },
    {
     "ename": "ERROR",
     "evalue": "Error in loadNamespace(name): there is no package called 'Cairo'\n",
     "output_type": "error",
     "traceback": [
      "Error in loadNamespace(name): there is no package called 'Cairo'\nTraceback:\n",
      "1. demo(plotmath)",
      "2. source(available, echo = echo, max.deparse.length = Inf, keep.source = TRUE, \n .     encoding = encoding)",
      "3. withVisible(eval(ei, envir))",
      "4. eval(ei, envir)",
      "5. eval(expr, envir, enclos)",
      "6. make.table(nr, nc)   # at line 139 of file C:/Program Files/R/R-3.3.0/library/graphics/demo/plotmath.R",
      "7. plot(c(0, nc * 2 + 1), c(0, -(nr + 1)), type = \"n\", xlab = \"\", \n .     ylab = \"\", axes = FALSE)   # at line 13-14 of file C:/Program Files/R/R-3.3.0/library/graphics/demo/plotmath.R",
      "8. plot.default(c(0, nc * 2 + 1), c(0, -(nr + 1)), type = \"n\", xlab = \"\", \n .     ylab = \"\", axes = FALSE)",
      "9. plot.new()",
      "10. try(fun())",
      "11. tryCatch(expr, error = function(e) {\n  .     call <- conditionCall(e)\n  .     if (!is.null(call)) {\n  .         if (identical(call[[1L]], quote(doTryCatch))) \n  .             call <- sys.call(-4L)\n  .         dcall <- deparse(call)[1L]\n  .         prefix <- paste(\"Error in\", dcall, \": \")\n  .         LONG <- 75L\n  .         msg <- conditionMessage(e)\n  .         sm <- strsplit(msg, \"\\n\")[[1L]]\n  .         w <- 14L + nchar(dcall, type = \"w\") + nchar(sm[1L], type = \"w\")\n  .         if (is.na(w)) \n  .             w <- 14L + nchar(dcall, type = \"b\") + nchar(sm[1L], \n  .                 type = \"b\")\n  .         if (w > LONG) \n  .             prefix <- paste0(prefix, \"\\n  \")\n  .     }\n  .     else prefix <- \"Error : \"\n  .     msg <- paste0(prefix, conditionMessage(e), \"\\n\")\n  .     .Internal(seterrmessage(msg[1L]))\n  .     if (!silent && identical(getOption(\"show.error.messages\"), \n  .         TRUE)) {\n  .         cat(msg, file = stderr())\n  .         .Internal(printDeferredWarnings())\n  .     }\n  .     invisible(structure(msg, class = \"try-error\", condition = e))\n  . })",
      "12. tryCatchList(expr, classes, parentenv, handlers)",
      "13. tryCatchOne(expr, names, parentenv, handlers[[1L]])",
      "14. doTryCatch(return(expr), name, parentenv, handler)",
      "15. fun()",
      "16. handle_output(TRUE)",
      "17. w$get_new(plot, incomplete_plots, output_handler$text, output_handler$graphics)",
      "18. graphics_callback(out$graphics)",
      "19. send_plot(last_recorded_plot)",
      "20. tryCatch({\n  .     formats[[mime]] <- mime2repr[[mime]](plotobj, attr(plotobj, \n  .         \".irkernel_width\"), attr(plotobj, \".irkernel_height\"))\n  . }, error = handle_error)"
     ]
    },
    {
     "data": {
      "text/plain": [
       "plot without title"
      ]
     },
     "metadata": {
      "image/svg+xml": {
       "isolated": true
      }
     },
     "output_type": "display_data"
    },
    {
     "name": "stdout",
     "output_type": "stream",
     "text": [
      "$mar\n",
      "[1] 0 0 0 0\n",
      "\n",
      "$pty\n",
      "[1] \"s\"\n",
      "\n",
      "\n",
      "> i <- 0\n",
      "\n",
      "> draw.title.cell(\"Ellipsis\", i, nr); i <- i + 1\n",
      "\n",
      "> draw.plotmath.cell(expression(list(x[1], ..., x[n])), i, nr); i <- i + 1\n",
      "\n",
      "> draw.plotmath.cell(expression(x[1] + ... + x[n]), i, nr); i <- i + 1\n",
      "\n",
      "> draw.plotmath.cell(expression(list(x[1], cdots, x[n])), i, nr); i <- i + 1\n",
      "\n",
      "> draw.plotmath.cell(expression(x[1] + ldots + x[n]), i, nr); i <- i + 1\n",
      "\n",
      "> draw.title.cell(\"Set Relations\", i, nr); i <- i + 1\n",
      "\n",
      "> draw.plotmath.cell(expression(x %subset% y), i, nr); i <- i + 1\n",
      "\n",
      "> draw.plotmath.cell(expression(x %subseteq% y), i, nr); i <- i + 1\n",
      "\n",
      "> draw.plotmath.cell(expression(x %supset% y), i, nr); i <- i + 1\n",
      "\n",
      "> draw.plotmath.cell(expression(x %supseteq% y), i, nr); i <- i + 1\n",
      "\n",
      "> draw.plotmath.cell(expression(x %notsubset% y), i, nr); i <- i + 1\n",
      "\n",
      "> draw.plotmath.cell(expression(x %in% y), i, nr); i <- i + 1\n",
      "\n",
      "> draw.plotmath.cell(expression(x %notin% y), i, nr); i <- i + 1\n",
      "\n",
      "> draw.title.cell(\"Accents\", i, nr); i <- i + 1\n",
      "\n",
      "> draw.plotmath.cell(expression(hat(x)), i, nr); i <- i + 1\n",
      "\n",
      "> draw.plotmath.cell(expression(tilde(x)), i, nr); i <- i + 1\n",
      "\n",
      "> draw.plotmath.cell(expression(ring(x)), i, nr); i <- i + 1\n",
      "\n",
      "> draw.plotmath.cell(expression(bar(xy)), i, nr); i <- i + 1\n",
      "\n",
      "> draw.plotmath.cell(expression(widehat(xy)), i, nr); i <- i + 1\n",
      "\n",
      "> draw.plotmath.cell(expression(widetilde(xy)), i, nr); i <- i + 1\n",
      "\n",
      "> draw.title.cell(\"Arrows\", i, nr); i <- i + 1\n",
      "\n",
      "> draw.plotmath.cell(expression(x %<->% y), i, nr); i <- i + 1\n",
      "\n",
      "> draw.plotmath.cell(expression(x %->% y), i, nr); i <- i + 1\n",
      "\n",
      "> draw.plotmath.cell(expression(x %<-% y), i, nr); i <- i + 1\n",
      "\n",
      "> draw.plotmath.cell(expression(x %up% y), i, nr); i <- i + 1\n",
      "\n",
      "> draw.plotmath.cell(expression(x %down% y), i, nr); i <- i + 1\n",
      "\n",
      "> draw.plotmath.cell(expression(x %<=>% y), i, nr); i <- i + 1\n",
      "\n",
      "> draw.plotmath.cell(expression(x %=>% y), i, nr); i <- i + 1\n",
      "\n",
      "> draw.plotmath.cell(expression(x %<=% y), i, nr); i <- i + 1\n",
      "\n",
      "> draw.plotmath.cell(expression(x %dblup% y), i, nr); i <- i + 1\n",
      "\n",
      "> draw.plotmath.cell(expression(x %dbldown% y), i, nr); i <- i + 1\n",
      "\n",
      "> draw.title.cell(\"Symbolic Names\", i, nr); i <- i + 1\n",
      "\n",
      "> draw.plotmath.cell(expression(Alpha - Omega), i, nr); i <- i + 1\n",
      "\n",
      "> draw.plotmath.cell(expression(alpha - omega), i, nr); i <- i + 1\n",
      "\n",
      "> draw.plotmath.cell(expression(phi1 + sigma1), i, nr); i <- i + 1\n",
      "\n",
      "> draw.plotmath.cell(expression(Upsilon1), i, nr); i <- i + 1\n",
      "\n",
      "> draw.plotmath.cell(expression(infinity), i, nr); i <- i + 1\n",
      "\n",
      "> draw.plotmath.cell(expression(32 * degree), i, nr); i <- i + 1\n",
      "\n",
      "> draw.plotmath.cell(expression(60 * minute), i, nr); i <- i + 1\n",
      "\n",
      "> draw.plotmath.cell(expression(30 * second), i, nr); i <- i + 1\n",
      "\n",
      "> # Need even fewer, wider columns for typeface and style ...\n",
      "> nr <- 20\n",
      "\n",
      "> nc <- 1\n",
      "\n",
      "> make.table(nr, nc)\n",
      "$mar\n",
      "[1] 0 0 0 0\n",
      "\n",
      "$pty\n",
      "[1] \"s\"\n",
      "\n",
      "\n",
      "> i <- 0\n",
      "\n",
      "> draw.title.cell(\"Style\", i, nr); i <- i + 1\n",
      "\n",
      "> draw.plotmath.cell(expression(displaystyle(x)), i, nr); i <- i + 1\n",
      "\n",
      "> draw.plotmath.cell(expression(textstyle(x)), i, nr); i <- i + 1\n",
      "\n",
      "> draw.plotmath.cell(expression(scriptstyle(x)), i, nr); i <- i + 1\n",
      "\n",
      "> draw.plotmath.cell(expression(scriptscriptstyle(x)), i, nr); i <- i + 1\n",
      "\n",
      "> draw.title.cell(\"Spacing\", i, nr); i <- i + 1\n",
      "\n",
      "> draw.plotmath.cell(expression(x ~~ y), i, nr); i <- i + 1\n",
      "\n",
      "> # Need fewer, taller rows for fractions ...\n",
      "> # cheat a bit to save pages\n",
      "> par(new = TRUE)\n",
      "\n",
      "> nr <- 10\n",
      "\n",
      "> nc <- 1\n",
      "\n",
      "> make.table(nr, nc)\n"
     ]
    },
    {
     "ename": "ERROR",
     "evalue": "Error in loadNamespace(name): there is no package called 'Cairo'\n",
     "output_type": "error",
     "traceback": [
      "Error in loadNamespace(name): there is no package called 'Cairo'\nTraceback:\n",
      "1. demo(plotmath)",
      "2. source(available, echo = echo, max.deparse.length = Inf, keep.source = TRUE, \n .     encoding = encoding)",
      "3. withVisible(eval(ei, envir))",
      "4. eval(ei, envir)",
      "5. eval(expr, envir, enclos)",
      "6. make.table(nr, nc)   # at line 166 of file C:/Program Files/R/R-3.3.0/library/graphics/demo/plotmath.R",
      "7. plot(c(0, nc * 2 + 1), c(0, -(nr + 1)), type = \"n\", xlab = \"\", \n .     ylab = \"\", axes = FALSE)   # at line 13-14 of file C:/Program Files/R/R-3.3.0/library/graphics/demo/plotmath.R",
      "8. plot.default(c(0, nc * 2 + 1), c(0, -(nr + 1)), type = \"n\", xlab = \"\", \n .     ylab = \"\", axes = FALSE)",
      "9. plot.new()",
      "10. try(fun())",
      "11. tryCatch(expr, error = function(e) {\n  .     call <- conditionCall(e)\n  .     if (!is.null(call)) {\n  .         if (identical(call[[1L]], quote(doTryCatch))) \n  .             call <- sys.call(-4L)\n  .         dcall <- deparse(call)[1L]\n  .         prefix <- paste(\"Error in\", dcall, \": \")\n  .         LONG <- 75L\n  .         msg <- conditionMessage(e)\n  .         sm <- strsplit(msg, \"\\n\")[[1L]]\n  .         w <- 14L + nchar(dcall, type = \"w\") + nchar(sm[1L], type = \"w\")\n  .         if (is.na(w)) \n  .             w <- 14L + nchar(dcall, type = \"b\") + nchar(sm[1L], \n  .                 type = \"b\")\n  .         if (w > LONG) \n  .             prefix <- paste0(prefix, \"\\n  \")\n  .     }\n  .     else prefix <- \"Error : \"\n  .     msg <- paste0(prefix, conditionMessage(e), \"\\n\")\n  .     .Internal(seterrmessage(msg[1L]))\n  .     if (!silent && identical(getOption(\"show.error.messages\"), \n  .         TRUE)) {\n  .         cat(msg, file = stderr())\n  .         .Internal(printDeferredWarnings())\n  .     }\n  .     invisible(structure(msg, class = \"try-error\", condition = e))\n  . })",
      "12. tryCatchList(expr, classes, parentenv, handlers)",
      "13. tryCatchOne(expr, names, parentenv, handlers[[1L]])",
      "14. doTryCatch(return(expr), name, parentenv, handler)",
      "15. fun()",
      "16. handle_output(TRUE)",
      "17. w$get_new(plot, incomplete_plots, output_handler$text, output_handler$graphics)",
      "18. graphics_callback(out$graphics)",
      "19. send_plot(last_recorded_plot)",
      "20. tryCatch({\n  .     formats[[mime]] <- mime2repr[[mime]](plotobj, attr(plotobj, \n  .         \".irkernel_width\"), attr(plotobj, \".irkernel_height\"))\n  . }, error = handle_error)"
     ]
    },
    {
     "ename": "ERROR",
     "evalue": "Error in loadNamespace(name): there is no package called 'Cairo'\n",
     "output_type": "error",
     "traceback": [
      "Error in loadNamespace(name): there is no package called 'Cairo'\nTraceback:\n",
      "1. demo(plotmath)",
      "2. source(available, echo = echo, max.deparse.length = Inf, keep.source = TRUE, \n .     encoding = encoding)",
      "3. withVisible(eval(ei, envir))",
      "4. eval(ei, envir)",
      "5. eval(expr, envir, enclos)",
      "6. make.table(nr, nc)   # at line 166 of file C:/Program Files/R/R-3.3.0/library/graphics/demo/plotmath.R",
      "7. plot(c(0, nc * 2 + 1), c(0, -(nr + 1)), type = \"n\", xlab = \"\", \n .     ylab = \"\", axes = FALSE)   # at line 13-14 of file C:/Program Files/R/R-3.3.0/library/graphics/demo/plotmath.R",
      "8. plot.default(c(0, nc * 2 + 1), c(0, -(nr + 1)), type = \"n\", xlab = \"\", \n .     ylab = \"\", axes = FALSE)",
      "9. plot.new()",
      "10. try(fun())",
      "11. tryCatch(expr, error = function(e) {\n  .     call <- conditionCall(e)\n  .     if (!is.null(call)) {\n  .         if (identical(call[[1L]], quote(doTryCatch))) \n  .             call <- sys.call(-4L)\n  .         dcall <- deparse(call)[1L]\n  .         prefix <- paste(\"Error in\", dcall, \": \")\n  .         LONG <- 75L\n  .         msg <- conditionMessage(e)\n  .         sm <- strsplit(msg, \"\\n\")[[1L]]\n  .         w <- 14L + nchar(dcall, type = \"w\") + nchar(sm[1L], type = \"w\")\n  .         if (is.na(w)) \n  .             w <- 14L + nchar(dcall, type = \"b\") + nchar(sm[1L], \n  .                 type = \"b\")\n  .         if (w > LONG) \n  .             prefix <- paste0(prefix, \"\\n  \")\n  .     }\n  .     else prefix <- \"Error : \"\n  .     msg <- paste0(prefix, conditionMessage(e), \"\\n\")\n  .     .Internal(seterrmessage(msg[1L]))\n  .     if (!silent && identical(getOption(\"show.error.messages\"), \n  .         TRUE)) {\n  .         cat(msg, file = stderr())\n  .         .Internal(printDeferredWarnings())\n  .     }\n  .     invisible(structure(msg, class = \"try-error\", condition = e))\n  . })",
      "12. tryCatchList(expr, classes, parentenv, handlers)",
      "13. tryCatchOne(expr, names, parentenv, handlers[[1L]])",
      "14. doTryCatch(return(expr), name, parentenv, handler)",
      "15. fun()",
      "16. handle_output(TRUE)",
      "17. w$get_new(plot, incomplete_plots, output_handler$text, output_handler$graphics)",
      "18. graphics_callback(out$graphics)",
      "19. send_plot(last_recorded_plot)",
      "20. tryCatch({\n  .     formats[[mime]] <- mime2repr[[mime]](plotobj, attr(plotobj, \n  .         \".irkernel_width\"), attr(plotobj, \".irkernel_height\"))\n  . }, error = handle_error)"
     ]
    },
    {
     "data": {
      "text/plain": [
       "plot without title"
      ]
     },
     "metadata": {
      "image/svg+xml": {
       "isolated": true
      }
     },
     "output_type": "display_data"
    },
    {
     "name": "stdout",
     "output_type": "stream",
     "text": [
      "$mar\n",
      "[1] 0 0 0 0\n",
      "\n",
      "$pty\n",
      "[1] \"s\"\n",
      "\n",
      "\n",
      "> i <- 4\n",
      "\n",
      "> draw.plotmath.cell(expression(x + phantom(0) + y), i, nr); i <- i + 1\n",
      "\n",
      "> draw.plotmath.cell(expression(x + over(1, phantom(0))), i, nr); i <- i + 1\n",
      "\n",
      "> draw.title.cell(\"Fractions\", i, nr); i <- i + 1\n",
      "\n",
      "> draw.plotmath.cell(expression(frac(x, y)), i, nr); i <- i + 1\n",
      "\n",
      "> draw.plotmath.cell(expression(over(x, y)), i, nr); i <- i + 1\n",
      "\n",
      "> draw.plotmath.cell(expression(atop(x, y)), i, nr); i <- i + 1\n",
      "\n",
      "> # Need fewer, taller rows and fewer, wider columns for big operators ...\n",
      "> nr <- 10\n",
      "\n",
      "> nc <- 1\n",
      "\n",
      "> make.table(nr, nc)\n"
     ]
    },
    {
     "ename": "ERROR",
     "evalue": "Error in loadNamespace(name): there is no package called 'Cairo'\n",
     "output_type": "error",
     "traceback": [
      "Error in loadNamespace(name): there is no package called 'Cairo'\nTraceback:\n",
      "1. demo(plotmath)",
      "2. source(available, echo = echo, max.deparse.length = Inf, keep.source = TRUE, \n .     encoding = encoding)",
      "3. withVisible(eval(ei, envir))",
      "4. eval(ei, envir)",
      "5. eval(expr, envir, enclos)",
      "6. make.table(nr, nc)   # at line 179 of file C:/Program Files/R/R-3.3.0/library/graphics/demo/plotmath.R",
      "7. plot(c(0, nc * 2 + 1), c(0, -(nr + 1)), type = \"n\", xlab = \"\", \n .     ylab = \"\", axes = FALSE)   # at line 13-14 of file C:/Program Files/R/R-3.3.0/library/graphics/demo/plotmath.R",
      "8. plot.default(c(0, nc * 2 + 1), c(0, -(nr + 1)), type = \"n\", xlab = \"\", \n .     ylab = \"\", axes = FALSE)",
      "9. plot.new()",
      "10. try(fun())",
      "11. tryCatch(expr, error = function(e) {\n  .     call <- conditionCall(e)\n  .     if (!is.null(call)) {\n  .         if (identical(call[[1L]], quote(doTryCatch))) \n  .             call <- sys.call(-4L)\n  .         dcall <- deparse(call)[1L]\n  .         prefix <- paste(\"Error in\", dcall, \": \")\n  .         LONG <- 75L\n  .         msg <- conditionMessage(e)\n  .         sm <- strsplit(msg, \"\\n\")[[1L]]\n  .         w <- 14L + nchar(dcall, type = \"w\") + nchar(sm[1L], type = \"w\")\n  .         if (is.na(w)) \n  .             w <- 14L + nchar(dcall, type = \"b\") + nchar(sm[1L], \n  .                 type = \"b\")\n  .         if (w > LONG) \n  .             prefix <- paste0(prefix, \"\\n  \")\n  .     }\n  .     else prefix <- \"Error : \"\n  .     msg <- paste0(prefix, conditionMessage(e), \"\\n\")\n  .     .Internal(seterrmessage(msg[1L]))\n  .     if (!silent && identical(getOption(\"show.error.messages\"), \n  .         TRUE)) {\n  .         cat(msg, file = stderr())\n  .         .Internal(printDeferredWarnings())\n  .     }\n  .     invisible(structure(msg, class = \"try-error\", condition = e))\n  . })",
      "12. tryCatchList(expr, classes, parentenv, handlers)",
      "13. tryCatchOne(expr, names, parentenv, handlers[[1L]])",
      "14. doTryCatch(return(expr), name, parentenv, handler)",
      "15. fun()",
      "16. handle_output(TRUE)",
      "17. w$get_new(plot, incomplete_plots, output_handler$text, output_handler$graphics)",
      "18. graphics_callback(out$graphics)",
      "19. send_plot(last_recorded_plot)",
      "20. tryCatch({\n  .     formats[[mime]] <- mime2repr[[mime]](plotobj, attr(plotobj, \n  .         \".irkernel_width\"), attr(plotobj, \".irkernel_height\"))\n  . }, error = handle_error)"
     ]
    },
    {
     "ename": "ERROR",
     "evalue": "Error in loadNamespace(name): there is no package called 'Cairo'\n",
     "output_type": "error",
     "traceback": [
      "Error in loadNamespace(name): there is no package called 'Cairo'\nTraceback:\n",
      "1. demo(plotmath)",
      "2. source(available, echo = echo, max.deparse.length = Inf, keep.source = TRUE, \n .     encoding = encoding)",
      "3. withVisible(eval(ei, envir))",
      "4. eval(ei, envir)",
      "5. eval(expr, envir, enclos)",
      "6. make.table(nr, nc)   # at line 179 of file C:/Program Files/R/R-3.3.0/library/graphics/demo/plotmath.R",
      "7. plot(c(0, nc * 2 + 1), c(0, -(nr + 1)), type = \"n\", xlab = \"\", \n .     ylab = \"\", axes = FALSE)   # at line 13-14 of file C:/Program Files/R/R-3.3.0/library/graphics/demo/plotmath.R",
      "8. plot.default(c(0, nc * 2 + 1), c(0, -(nr + 1)), type = \"n\", xlab = \"\", \n .     ylab = \"\", axes = FALSE)",
      "9. plot.new()",
      "10. try(fun())",
      "11. tryCatch(expr, error = function(e) {\n  .     call <- conditionCall(e)\n  .     if (!is.null(call)) {\n  .         if (identical(call[[1L]], quote(doTryCatch))) \n  .             call <- sys.call(-4L)\n  .         dcall <- deparse(call)[1L]\n  .         prefix <- paste(\"Error in\", dcall, \": \")\n  .         LONG <- 75L\n  .         msg <- conditionMessage(e)\n  .         sm <- strsplit(msg, \"\\n\")[[1L]]\n  .         w <- 14L + nchar(dcall, type = \"w\") + nchar(sm[1L], type = \"w\")\n  .         if (is.na(w)) \n  .             w <- 14L + nchar(dcall, type = \"b\") + nchar(sm[1L], \n  .                 type = \"b\")\n  .         if (w > LONG) \n  .             prefix <- paste0(prefix, \"\\n  \")\n  .     }\n  .     else prefix <- \"Error : \"\n  .     msg <- paste0(prefix, conditionMessage(e), \"\\n\")\n  .     .Internal(seterrmessage(msg[1L]))\n  .     if (!silent && identical(getOption(\"show.error.messages\"), \n  .         TRUE)) {\n  .         cat(msg, file = stderr())\n  .         .Internal(printDeferredWarnings())\n  .     }\n  .     invisible(structure(msg, class = \"try-error\", condition = e))\n  . })",
      "12. tryCatchList(expr, classes, parentenv, handlers)",
      "13. tryCatchOne(expr, names, parentenv, handlers[[1L]])",
      "14. doTryCatch(return(expr), name, parentenv, handler)",
      "15. fun()",
      "16. handle_output(TRUE)",
      "17. w$get_new(plot, incomplete_plots, output_handler$text, output_handler$graphics)",
      "18. graphics_callback(out$graphics)",
      "19. send_plot(last_recorded_plot)",
      "20. tryCatch({\n  .     formats[[mime]] <- mime2repr[[mime]](plotobj, attr(plotobj, \n  .         \".irkernel_width\"), attr(plotobj, \".irkernel_height\"))\n  . }, error = handle_error)"
     ]
    },
    {
     "data": {
      "text/plain": [
       "plot without title"
      ]
     },
     "metadata": {
      "image/svg+xml": {
       "isolated": true
      }
     },
     "output_type": "display_data"
    },
    {
     "name": "stdout",
     "output_type": "stream",
     "text": [
      "$mar\n",
      "[1] 0 0 0 0\n",
      "\n",
      "$pty\n",
      "[1] \"s\"\n",
      "\n",
      "\n",
      "> i <- 0\n",
      "\n",
      "> draw.title.cell(\"Big Operators\", i, nr); i <- i + 1\n",
      "\n",
      "> draw.plotmath.cell(expression(sum(x[i], i=1, n)), i, nr); i <- i + 1\n",
      "\n",
      "> draw.plotmath.cell(expression(prod(plain(P)(X == x), x)), i, nr); i <- i + 1\n",
      "\n",
      "> draw.plotmath.cell(expression(integral(f(x) * dx, a, b)), i, nr); i <- i + 1\n",
      "\n",
      "> draw.plotmath.cell(expression(union(A[i], i==1, n)), i, nr); i <- i + 1\n",
      "\n",
      "> draw.plotmath.cell(expression(intersect(A[i], i==1, n)), i, nr); i <- i + 1\n",
      "\n",
      "> draw.plotmath.cell(expression(lim(f(x), x %->% 0)), i, nr); i <- i + 1\n",
      "\n",
      "> draw.plotmath.cell(expression(min(g(x), x >= 0)), i, nr); i <- i + 1\n",
      "\n",
      "> draw.plotmath.cell(expression(inf(S)), i, nr); i <- i + 1\n",
      "\n",
      "> draw.plotmath.cell(expression(sup(S)), i, nr); i <- i + 1\n",
      "\n",
      "> make.table(nr, nc)\n"
     ]
    },
    {
     "ename": "ERROR",
     "evalue": "Error in loadNamespace(name): there is no package called 'Cairo'\n",
     "output_type": "error",
     "traceback": [
      "Error in loadNamespace(name): there is no package called 'Cairo'\nTraceback:\n"
     ]
    },
    {
     "ename": "ERROR",
     "evalue": "Error in loadNamespace(name): there is no package called 'Cairo'\n",
     "output_type": "error",
     "traceback": [
      "Error in loadNamespace(name): there is no package called 'Cairo'\nTraceback:\n"
     ]
    },
    {
     "data": {
      "text/plain": [
       "plot without title"
      ]
     },
     "metadata": {
      "image/svg+xml": {
       "isolated": true
      }
     },
     "output_type": "display_data"
    },
    {
     "name": "stdout",
     "output_type": "stream",
     "text": [
      "$mar\n",
      "[1] 0 0 0 0\n",
      "\n",
      "$pty\n",
      "[1] \"s\"\n",
      "\n",
      "\n",
      "> i <- 0\n",
      "\n",
      "> draw.title.cell(\"Grouping\", i, nr); i <- i + 1\n",
      "\n",
      "> draw.plotmath.cell(expression((x + y)*z), i, nr); i <- i + 1\n",
      "\n",
      "> draw.plotmath.cell(expression(x^y + z), i, nr); i <- i + 1\n",
      "\n",
      "> draw.plotmath.cell(expression(x^(y + z)), i, nr); i <- i + 1\n",
      "\n",
      "> # have to do this one by hand\n",
      "> draw.plotmath.cell(expression(x^{y + z}), i, nr, string=\"x^{y + z}\"); i <- i + 1\n",
      "\n",
      "> draw.plotmath.cell(expression(group(\"(\", list(a, b), \"]\")), i, nr); i <- i + 1\n",
      "\n",
      "> draw.plotmath.cell(expression(bgroup(\"(\", atop(x, y), \")\")), i, nr); i <- i + 1\n",
      "\n",
      "> draw.plotmath.cell(expression(group(lceil, x, rceil)), i, nr); i <- i + 1\n",
      "\n",
      "> draw.plotmath.cell(expression(group(lfloor, x, rfloor)), i, nr); i <- i + 1\n",
      "\n",
      "> draw.plotmath.cell(expression(group(\"|\", x, \"|\")), i, nr); i <- i + 1\n",
      "\n",
      "> par(oldpar)\n"
     ]
    },
    {
     "ename": "ERROR",
     "evalue": "Error in loadNamespace(name): there is no package called 'Cairo'\n",
     "output_type": "error",
     "traceback": [
      "Error in loadNamespace(name): there is no package called 'Cairo'\nTraceback:\n"
     ]
    },
    {
     "ename": "ERROR",
     "evalue": "Error in loadNamespace(name): there is no package called 'Cairo'\n",
     "output_type": "error",
     "traceback": [
      "Error in loadNamespace(name): there is no package called 'Cairo'\nTraceback:\n"
     ]
    },
    {
     "data": {
      "text/plain": [
       "plot without title"
      ]
     },
     "metadata": {
      "image/svg+xml": {
       "isolated": true
      }
     },
     "output_type": "display_data"
    }
   ],
   "source": [
    "demo(plotmath)"
   ]
  },
  {
   "cell_type": "markdown",
   "metadata": {},
   "source": [
    "**4) Genera aleatoriamente 1000 mascotas, de las opciones perro, gato, pollo y pez dorado, con la misma probabilidad de que cada uno sea elegido. Muestra los primeros valores de la variable resultante y cuente el número de cada tipo de mascota**\n"
   ]
  },
  {
   "cell_type": "code",
   "execution_count": 4,
   "metadata": {
    "collapsed": false
   },
   "outputs": [
    {
     "data": {
      "text/html": [
       "<ol class=list-inline>\n",
       "\t<li>\"pez dorado\"</li>\n",
       "\t<li>\"gato\"</li>\n",
       "\t<li>\"perro\"</li>\n",
       "\t<li>\"gato\"</li>\n",
       "\t<li>\"gato\"</li>\n",
       "\t<li>\"gato\"</li>\n",
       "\t<li>\"pez dorado\"</li>\n",
       "\t<li>\"gato\"</li>\n",
       "\t<li>\"pollo\"</li>\n",
       "\t<li>\"pollo\"</li>\n",
       "</ol>\n"
      ],
      "text/latex": [
       "\\begin{enumerate*}\n",
       "\\item \"pez dorado\"\n",
       "\\item \"gato\"\n",
       "\\item \"perro\"\n",
       "\\item \"gato\"\n",
       "\\item \"gato\"\n",
       "\\item \"gato\"\n",
       "\\item \"pez dorado\"\n",
       "\\item \"gato\"\n",
       "\\item \"pollo\"\n",
       "\\item \"pollo\"\n",
       "\\end{enumerate*}\n"
      ],
      "text/markdown": [
       "1. \"pez dorado\"\n",
       "2. \"gato\"\n",
       "3. \"perro\"\n",
       "4. \"gato\"\n",
       "5. \"gato\"\n",
       "6. \"gato\"\n",
       "7. \"pez dorado\"\n",
       "8. \"gato\"\n",
       "9. \"pollo\"\n",
       "10. \"pollo\"\n",
       "\n",
       "\n"
      ],
      "text/plain": [
       " [1] \"pez dorado\" \"gato\"       \"perro\"      \"gato\"       \"gato\"      \n",
       " [6] \"gato\"       \"pez dorado\" \"gato\"       \"pollo\"      \"pollo\"     "
      ]
     },
     "metadata": {},
     "output_type": "display_data"
    }
   ],
   "source": [
    "mascotas<-c(\"perro\",\"gato\",\"pollo\",\"pez dorado\")\n",
    "muestra<-sample(mascotas,1000,replace=TRUE)\n",
    "#Observamos parte de la muestra\n",
    "head(muestra,10)"
   ]
  },
  {
   "cell_type": "code",
   "execution_count": 5,
   "metadata": {
    "collapsed": false
   },
   "outputs": [
    {
     "data": {
      "text/html": [
       "<ol class=list-inline>\n",
       "\t<li>244</li>\n",
       "\t<li>247</li>\n",
       "\t<li>269</li>\n",
       "\t<li>240</li>\n",
       "</ol>\n"
      ],
      "text/latex": [
       "\\begin{enumerate*}\n",
       "\\item 244\n",
       "\\item 247\n",
       "\\item 269\n",
       "\\item 240\n",
       "\\end{enumerate*}\n"
      ],
      "text/markdown": [
       "1. 244\n",
       "2. 247\n",
       "3. 269\n",
       "4. 240\n",
       "\n",
       "\n"
      ],
      "text/plain": [
       "[1] 244 247 269 240"
      ]
     },
     "metadata": {},
     "output_type": "display_data"
    }
   ],
   "source": [
    "#Contamos el numero de cada tipo de mascota\n",
    "\n",
    "#Inicializamos los contadores a 0\n",
    "contadores<-numeric(4)\n",
    "#1) Primer método\n",
    "\n",
    "# muestra=='perro' devuelve un vector de booleans de la misma longitud que el vector muestra y\n",
    "# su contenido depende de si se cumple la condición o no.\n",
    "# Entonces podemos hallar la cantidad de cada tipo de mascota de la siguiente manera:\n",
    "\n",
    "contadores[1]<-sum(muestra=='perro')\n",
    "contadores[2]<-sum(muestra=='gato')\n",
    "contadores[3]<-sum(muestra=='pollo')\n",
    "contadores[4]<-sum(muestra=='pez dorado')\n",
    "\n",
    "contadores"
   ]
  },
  {
   "cell_type": "code",
   "execution_count": 6,
   "metadata": {
    "collapsed": false
   },
   "outputs": [
    {
     "data": {
      "text/html": [
       "<ol class=list-inline>\n",
       "\t<li>244</li>\n",
       "\t<li>247</li>\n",
       "\t<li>269</li>\n",
       "\t<li>240</li>\n",
       "</ol>\n"
      ],
      "text/latex": [
       "\\begin{enumerate*}\n",
       "\\item 244\n",
       "\\item 247\n",
       "\\item 269\n",
       "\\item 240\n",
       "\\end{enumerate*}\n"
      ],
      "text/markdown": [
       "1. 244\n",
       "2. 247\n",
       "3. 269\n",
       "4. 240\n",
       "\n",
       "\n"
      ],
      "text/plain": [
       "[1] 244 247 269 240"
      ]
     },
     "metadata": {},
     "output_type": "display_data"
    }
   ],
   "source": [
    "# También podemos aplicar lo siguiente\n",
    "contadores2<-numeric(4)\n",
    "# muestra[muestra=='perro'] devuelve un vector con los elementos de muestra que cumplen la condición\n",
    "\n",
    "contadores2[1]<-length(muestra[muestra=='perro'])\n",
    "contadores2[2]<-length(muestra[muestra=='gato'])\n",
    "contadores2[3]<-length(muestra[muestra=='pollo'])\n",
    "contadores2[4]<-length(muestra[muestra=='pez dorado'])\n",
    "\n",
    "contadores2"
   ]
  },
  {
   "cell_type": "code",
   "execution_count": 7,
   "metadata": {
    "collapsed": false
   },
   "outputs": [
    {
     "data": {
      "text/html": [
       "<ol class=list-inline>\n",
       "\t<li>244</li>\n",
       "\t<li>247</li>\n",
       "\t<li>269</li>\n",
       "\t<li>240</li>\n",
       "</ol>\n"
      ],
      "text/latex": [
       "\\begin{enumerate*}\n",
       "\\item 244\n",
       "\\item 247\n",
       "\\item 269\n",
       "\\item 240\n",
       "\\end{enumerate*}\n"
      ],
      "text/markdown": [
       "1. 244\n",
       "2. 247\n",
       "3. 269\n",
       "4. 240\n",
       "\n",
       "\n"
      ],
      "text/plain": [
       "[1] 244 247 269 240"
      ]
     },
     "metadata": {},
     "output_type": "display_data"
    }
   ],
   "source": [
    "#2) Segundo método\n",
    "\n",
    "#Aplicamos un bucle for\n",
    "\n",
    "contadores3<-numeric(4)\n",
    "\n",
    "for (i in muestra){\n",
    "    if(i == \"perro\"){\n",
    "        contadores3[1] <- contadores3[1] + 1\n",
    "    } else if (i == \"gato\"){\n",
    "        contadores3[2] <- contadores3[2] + 1\n",
    "    } else if (i == \"pollo\"){\n",
    "        contadores3[3] <- contadores3[3] + 1\n",
    "    } else {\n",
    "        contadores3[4] <- contadores3[4] + 1\n",
    "    }\n",
    "}\n",
    "\n",
    "contadores3\n"
   ]
  },
  {
   "cell_type": "markdown",
   "metadata": {},
   "source": [
    "**5) La *Conjetura de Collatz* señala que para todo número natural n, si se realiza la siguiente recursión: **\n",
    "\n",
    "$$f(n)= \\left \\{ \\begin{array}{} 3n+1 &n=2k+1\\\\ \\frac{n}{2} &n=2k\\end{array}  \\right. $$\n",
    "\n",
    "**Siempre se llegará a 1 luego de cierta cantidad de iteraciones. Para hallar la cantidad de pasos de un número se usa la siguiente iteración:**"
   ]
  },
  {
   "cell_type": "code",
   "execution_count": 9,
   "metadata": {
    "collapsed": false
   },
   "outputs": [
    {
     "name": "stdout",
     "output_type": "stream",
     "text": [
      "[1] 7\n"
     ]
    }
   ],
   "source": [
    "n <- 10\n",
    "pasos <- 1\n",
    "while(n!=1){\n",
    "    if(n %% 2 == 0){\n",
    "        n <- n/2\n",
    "    } else {\n",
    "        n <- 3*n + 1\n",
    "    }\n",
    "    pasos <- pasos + 1\n",
    "}\n",
    "print(pasos)"
   ]
  },
  {
   "cell_type": "markdown",
   "metadata": {},
   "source": [
    "**Diseña un programa que halle la secuencia de menor longitud de entre los números en el rango [100.200] y además determine cual es esa secuencia**"
   ]
  },
  {
   "cell_type": "code",
   "execution_count": 28,
   "metadata": {
    "collapsed": false
   },
   "outputs": [
    {
     "data": {
      "text/html": [
       "\"El numero que produce la menor cantidad de pasos es 128 con 8 pasos\""
      ],
      "text/latex": [
       "\"El numero que produce la menor cantidad de pasos es 128 con 8 pasos\""
      ],
      "text/markdown": [
       "\"El numero que produce la menor cantidad de pasos es 128 con 8 pasos\""
      ],
      "text/plain": [
       "[1] \"El numero que produce la menor cantidad de pasos es 128 con 8 pasos\""
      ]
     },
     "metadata": {},
     "output_type": "display_data"
    },
    {
     "name": "stdout",
     "output_type": "stream",
     "text": [
      "La secuencia es:"
     ]
    },
    {
     "data": {
      "text/html": [
       "<ol class=list-inline>\n",
       "\t<li>128</li>\n",
       "\t<li>64</li>\n",
       "\t<li>32</li>\n",
       "\t<li>16</li>\n",
       "\t<li>8</li>\n",
       "\t<li>4</li>\n",
       "\t<li>2</li>\n",
       "\t<li>1</li>\n",
       "</ol>\n"
      ],
      "text/latex": [
       "\\begin{enumerate*}\n",
       "\\item 128\n",
       "\\item 64\n",
       "\\item 32\n",
       "\\item 16\n",
       "\\item 8\n",
       "\\item 4\n",
       "\\item 2\n",
       "\\item 1\n",
       "\\end{enumerate*}\n"
      ],
      "text/markdown": [
       "1. 128\n",
       "2. 64\n",
       "3. 32\n",
       "4. 16\n",
       "5. 8\n",
       "6. 4\n",
       "7. 2\n",
       "8. 1\n",
       "\n",
       "\n"
      ],
      "text/plain": [
       "[1] 128  64  32  16   8   4   2   1"
      ]
     },
     "metadata": {},
     "output_type": "display_data"
    }
   ],
   "source": [
    "pasos_minimo<-Inf\n",
    "numero_buscado<--1\n",
    "#Buscamos el numero con menor secuencia entre los numeros dentro del intervalo [100,200]\n",
    "for(i in 100:200){\n",
    "    pasos <- 1\n",
    "    n<-i\n",
    "    while(n!=1){\n",
    "        if(n %% 2 == 0){\n",
    "            n <- n/2\n",
    "        } else {\n",
    "            n <- 3*n + 1\n",
    "        }\n",
    "        pasos <- pasos + 1\n",
    "    }\n",
    "    #Cuando se encuentra un numero de pasos menor al minimo establecido anteriormente se guarda el nuevo valor de\n",
    "    #pasos_minimo y su numero correspondiente\n",
    "    if(pasos<pasos_minimo)\n",
    "        {\n",
    "        pasos_minimo<-pasos\n",
    "        numero_buscado<-i\n",
    "    }\n",
    "}\n",
    "\n",
    "sprintf(\"El numero que produce la menor cantidad de pasos es %d con %d pasos\",numero_buscado,pasos_minimo)\n",
    "\n",
    "#Ahora mostramos la secuencia correspondiente\n",
    "n<-numero_buscado\n",
    "#Inicializamos el vector secuencia\n",
    "secuencia<-numeric(0)\n",
    "while(n!=1){\n",
    "        #Vamos agregando los numeros correspondientes a la secuencia\n",
    "        secuencia<-c(secuencia,n)\n",
    "        if(n %% 2 == 0){\n",
    "            n <- n/2\n",
    "        } else {\n",
    "            n <- 3*n + 1\n",
    "        }\n",
    "    }\n",
    "    secuencia<-c(secuencia,1)\n",
    "#Imprimimos la secuencia\n",
    "cat(\"La secuencia es:\")\n",
    "secuencia"
   ]
  },
  {
   "cell_type": "markdown",
   "metadata": {},
   "source": [
    "**6) Jessica estaba estudiando teoría de números y aprendió el algoritmo de Euclides, pero en la clase estaba tan concentrada que no llegó a apuntar correctamente el algoritmo dado por su profesor. A pesar de todo ella recuerda exactamente todas las líneas, pero no el orden correcto. Dadas las siguientes líneas de código reconstruya el algoritmo de Euclides iterativo y use $a=10^5+3$ y $b=10^8+9$ **  \n",
    "\n",
    "`a<-1001`  \n",
    "`b<-7`  \n",
    "`while(b!=0){`  \n",
    "&nbsp;&nbsp;&nbsp;&nbsp;&nbsp;`b<-carry`  \n",
    "&nbsp;&nbsp;&nbsp;&nbsp;&nbsp;`a<-b`  \n",
    "&nbsp;&nbsp;&nbsp;&nbsp;&nbsp;`carry<-a %% b`  \n",
    "`}`<br />\n",
    "`print(a)`"
   ]
  },
  {
   "cell_type": "code",
   "execution_count": 41,
   "metadata": {
    "collapsed": false
   },
   "outputs": [
    {
     "name": "stdout",
     "output_type": "stream",
     "text": [
      "[1] 1\n"
     ]
    }
   ],
   "source": [
    "# El algoritmo de Euclides se encarga de encontrar el maximo comun divisor entre 2 numeros\n",
    "# Si la division entre los 2 numeros es exacta, entonces el divisor es el M.C.D\n",
    "# De no ser exacta,se divide el divisor con el resto obtenido, y se continua de esa forma hasta encontrar una división exacta,\n",
    "# siendo el ultimo divisor el M.C.D\n",
    "\n",
    "# GCD(a,b) = GCD(b,a%b) \n",
    "\n",
    "a<-10^5+3\n",
    "b<-10^8+9\n",
    "# Si el resto de la ultima división es cero (división exacta) entonces se imprime el ultimo divisor.\n",
    "while(b!=0){\n",
    "    carry<-a %% b\n",
    "    a<-b\n",
    "    b<-carry\n",
    "    }\n",
    "# Como 10^5+3 y 10^8+9 son primos entre si, su M.C.D es 1\n",
    "print(a)"
   ]
  },
  {
   "cell_type": "markdown",
   "metadata": {},
   "source": [
    "\n",
    "** 7) Usando la función *`sample`* obtenga un muestreo de 100 números en el rango [1,1000] (con reemplazo) y determine la \n",
    "relación entre la cantidad de primos encontrados y el tamaño de la muestra. Según la teoría de primos, una cota superior para la cantidad de primos menores o iguales a `n` es $\\frac{n}{\\ln{(n)}}$, analice cuán preciso es esto con este caso y un muestreo de 20 números en el rango de [1,2000]** "
   ]
  },
  {
   "cell_type": "code",
   "execution_count": 93,
   "metadata": {
    "collapsed": false
   },
   "outputs": [
    {
     "data": {
      "text/html": [
       "<ol class=list-inline>\n",
       "\t<li>784</li>\n",
       "\t<li>389</li>\n",
       "\t<li>723</li>\n",
       "\t<li>79</li>\n",
       "\t<li>744</li>\n",
       "\t<li>860</li>\n",
       "\t<li>628</li>\n",
       "\t<li>153</li>\n",
       "\t<li>974</li>\n",
       "\t<li>578</li>\n",
       "\t<li>642</li>\n",
       "\t<li>752</li>\n",
       "\t<li>137</li>\n",
       "\t<li>482</li>\n",
       "\t<li>420</li>\n",
       "\t<li>264</li>\n",
       "\t<li>68</li>\n",
       "\t<li>516</li>\n",
       "\t<li>504</li>\n",
       "\t<li>802</li>\n",
       "\t<li>985</li>\n",
       "\t<li>305</li>\n",
       "\t<li>590</li>\n",
       "\t<li>222</li>\n",
       "\t<li>700</li>\n",
       "\t<li>521</li>\n",
       "\t<li>758</li>\n",
       "\t<li>268</li>\n",
       "\t<li>175</li>\n",
       "\t<li>136</li>\n",
       "\t<li>857</li>\n",
       "\t<li>69</li>\n",
       "\t<li>569</li>\n",
       "\t<li>793</li>\n",
       "\t<li>752</li>\n",
       "\t<li>878</li>\n",
       "\t<li>185</li>\n",
       "\t<li>49</li>\n",
       "\t<li>449</li>\n",
       "\t<li>467</li>\n",
       "\t<li>83</li>\n",
       "\t<li>19</li>\n",
       "\t<li>67</li>\n",
       "\t<li>849</li>\n",
       "\t<li>328</li>\n",
       "\t<li>272</li>\n",
       "\t<li>546</li>\n",
       "\t<li>904</li>\n",
       "\t<li>299</li>\n",
       "\t<li>915</li>\n",
       "\t<li>87</li>\n",
       "\t<li>717</li>\n",
       "\t<li>283</li>\n",
       "\t<li>891</li>\n",
       "\t<li>552</li>\n",
       "\t<li>637</li>\n",
       "\t<li>883</li>\n",
       "\t<li>720</li>\n",
       "\t<li>828</li>\n",
       "\t<li>571</li>\n",
       "\t<li>505</li>\n",
       "\t<li>231</li>\n",
       "\t<li>192</li>\n",
       "\t<li>888</li>\n",
       "\t<li>244</li>\n",
       "\t<li>369</li>\n",
       "\t<li>843</li>\n",
       "\t<li>122</li>\n",
       "\t<li>57</li>\n",
       "\t<li>364</li>\n",
       "\t<li>963</li>\n",
       "\t<li>474</li>\n",
       "\t<li>976</li>\n",
       "\t<li>337</li>\n",
       "\t<li>996</li>\n",
       "\t<li>488</li>\n",
       "\t<li>248</li>\n",
       "\t<li>623</li>\n",
       "\t<li>444</li>\n",
       "\t<li>513</li>\n",
       "\t<li>452</li>\n",
       "\t<li>102</li>\n",
       "\t<li>555</li>\n",
       "\t<li>903</li>\n",
       "\t<li>607</li>\n",
       "\t<li>897</li>\n",
       "\t<li>876</li>\n",
       "\t<li>663</li>\n",
       "\t<li>81</li>\n",
       "\t<li>148</li>\n",
       "\t<li>467</li>\n",
       "\t<li>189</li>\n",
       "\t<li>323</li>\n",
       "\t<li>54</li>\n",
       "\t<li>743</li>\n",
       "\t<li>888</li>\n",
       "\t<li>82</li>\n",
       "\t<li>967</li>\n",
       "\t<li>935</li>\n",
       "\t<li>285</li>\n",
       "</ol>\n"
      ],
      "text/latex": [
       "\\begin{enumerate*}\n",
       "\\item 784\n",
       "\\item 389\n",
       "\\item 723\n",
       "\\item 79\n",
       "\\item 744\n",
       "\\item 860\n",
       "\\item 628\n",
       "\\item 153\n",
       "\\item 974\n",
       "\\item 578\n",
       "\\item 642\n",
       "\\item 752\n",
       "\\item 137\n",
       "\\item 482\n",
       "\\item 420\n",
       "\\item 264\n",
       "\\item 68\n",
       "\\item 516\n",
       "\\item 504\n",
       "\\item 802\n",
       "\\item 985\n",
       "\\item 305\n",
       "\\item 590\n",
       "\\item 222\n",
       "\\item 700\n",
       "\\item 521\n",
       "\\item 758\n",
       "\\item 268\n",
       "\\item 175\n",
       "\\item 136\n",
       "\\item 857\n",
       "\\item 69\n",
       "\\item 569\n",
       "\\item 793\n",
       "\\item 752\n",
       "\\item 878\n",
       "\\item 185\n",
       "\\item 49\n",
       "\\item 449\n",
       "\\item 467\n",
       "\\item 83\n",
       "\\item 19\n",
       "\\item 67\n",
       "\\item 849\n",
       "\\item 328\n",
       "\\item 272\n",
       "\\item 546\n",
       "\\item 904\n",
       "\\item 299\n",
       "\\item 915\n",
       "\\item 87\n",
       "\\item 717\n",
       "\\item 283\n",
       "\\item 891\n",
       "\\item 552\n",
       "\\item 637\n",
       "\\item 883\n",
       "\\item 720\n",
       "\\item 828\n",
       "\\item 571\n",
       "\\item 505\n",
       "\\item 231\n",
       "\\item 192\n",
       "\\item 888\n",
       "\\item 244\n",
       "\\item 369\n",
       "\\item 843\n",
       "\\item 122\n",
       "\\item 57\n",
       "\\item 364\n",
       "\\item 963\n",
       "\\item 474\n",
       "\\item 976\n",
       "\\item 337\n",
       "\\item 996\n",
       "\\item 488\n",
       "\\item 248\n",
       "\\item 623\n",
       "\\item 444\n",
       "\\item 513\n",
       "\\item 452\n",
       "\\item 102\n",
       "\\item 555\n",
       "\\item 903\n",
       "\\item 607\n",
       "\\item 897\n",
       "\\item 876\n",
       "\\item 663\n",
       "\\item 81\n",
       "\\item 148\n",
       "\\item 467\n",
       "\\item 189\n",
       "\\item 323\n",
       "\\item 54\n",
       "\\item 743\n",
       "\\item 888\n",
       "\\item 82\n",
       "\\item 967\n",
       "\\item 935\n",
       "\\item 285\n",
       "\\end{enumerate*}\n"
      ],
      "text/markdown": [
       "1. 784\n",
       "2. 389\n",
       "3. 723\n",
       "4. 79\n",
       "5. 744\n",
       "6. 860\n",
       "7. 628\n",
       "8. 153\n",
       "9. 974\n",
       "10. 578\n",
       "11. 642\n",
       "12. 752\n",
       "13. 137\n",
       "14. 482\n",
       "15. 420\n",
       "16. 264\n",
       "17. 68\n",
       "18. 516\n",
       "19. 504\n",
       "20. 802\n",
       "21. 985\n",
       "22. 305\n",
       "23. 590\n",
       "24. 222\n",
       "25. 700\n",
       "26. 521\n",
       "27. 758\n",
       "28. 268\n",
       "29. 175\n",
       "30. 136\n",
       "31. 857\n",
       "32. 69\n",
       "33. 569\n",
       "34. 793\n",
       "35. 752\n",
       "36. 878\n",
       "37. 185\n",
       "38. 49\n",
       "39. 449\n",
       "40. 467\n",
       "41. 83\n",
       "42. 19\n",
       "43. 67\n",
       "44. 849\n",
       "45. 328\n",
       "46. 272\n",
       "47. 546\n",
       "48. 904\n",
       "49. 299\n",
       "50. 915\n",
       "51. 87\n",
       "52. 717\n",
       "53. 283\n",
       "54. 891\n",
       "55. 552\n",
       "56. 637\n",
       "57. 883\n",
       "58. 720\n",
       "59. 828\n",
       "60. 571\n",
       "61. 505\n",
       "62. 231\n",
       "63. 192\n",
       "64. 888\n",
       "65. 244\n",
       "66. 369\n",
       "67. 843\n",
       "68. 122\n",
       "69. 57\n",
       "70. 364\n",
       "71. 963\n",
       "72. 474\n",
       "73. 976\n",
       "74. 337\n",
       "75. 996\n",
       "76. 488\n",
       "77. 248\n",
       "78. 623\n",
       "79. 444\n",
       "80. 513\n",
       "81. 452\n",
       "82. 102\n",
       "83. 555\n",
       "84. 903\n",
       "85. 607\n",
       "86. 897\n",
       "87. 876\n",
       "88. 663\n",
       "89. 81\n",
       "90. 148\n",
       "91. 467\n",
       "92. 189\n",
       "93. 323\n",
       "94. 54\n",
       "95. 743\n",
       "96. 888\n",
       "97. 82\n",
       "98. 967\n",
       "99. 935\n",
       "100. 285\n",
       "\n",
       "\n"
      ],
      "text/plain": [
       "  [1] 784 389 723  79 744 860 628 153 974 578 642 752 137 482 420 264  68 516\n",
       " [19] 504 802 985 305 590 222 700 521 758 268 175 136 857  69 569 793 752 878\n",
       " [37] 185  49 449 467  83  19  67 849 328 272 546 904 299 915  87 717 283 891\n",
       " [55] 552 637 883 720 828 571 505 231 192 888 244 369 843 122  57 364 963 474\n",
       " [73] 976 337 996 488 248 623 444 513 452 102 555 903 607 897 876 663  81 148\n",
       " [91] 467 189 323  54 743 888  82 967 935 285"
      ]
     },
     "metadata": {},
     "output_type": "display_data"
    }
   ],
   "source": [
    "muestra<-sample(1:1000,100,replace=TRUE)\n",
    "muestra"
   ]
  },
  {
   "cell_type": "code",
   "execution_count": 29,
   "metadata": {
    "collapsed": false
   },
   "outputs": [
    {
     "name": "stdout",
     "output_type": "stream",
     "text": [
      "¿Es el numero 4 un numero primo?"
     ]
    },
    {
     "data": {
      "text/html": [
       "FALSE"
      ],
      "text/latex": [
       "FALSE"
      ],
      "text/markdown": [
       "FALSE"
      ],
      "text/plain": [
       "[1] FALSE"
      ]
     },
     "metadata": {},
     "output_type": "display_data"
    }
   ],
   "source": [
    "# Definimos una manera de identificar numeros primos\n",
    "\n",
    "# Identificamos si n=4 es un numero primo\n",
    "n<-4\n",
    "\n",
    "#Asumiremos que el número es primo hasta que se demuestre lo contrario\n",
    "es_primo<-TRUE\n",
    "\n",
    "# Analizamos si n es divisible entre cualquiera de los numeros enteros dentro del intervalo [2,sqrt(n)], \n",
    "# y en caso de serlo, significará que no es primo.\n",
    "i<-2\n",
    "# Detenemos la busqueda cuando se identifique que el numero no es primo, o se hayan analizado\n",
    "# todos los numeros enteros del intervalo [2,sqrt(n)]\n",
    "while(i*i<=n && es_primo){\n",
    "  if(n%%i==0)  es_primo<-FALSE  \n",
    "}\n",
    "#Verificamos el resultado\n",
    "cat(sprintf(\"¿Es el numero %d un numero primo?\",n))\n",
    "es_primo\n"
   ]
  },
  {
   "cell_type": "markdown",
   "metadata": {},
   "source": [
    "**Ahora mostramos cuantos numeros primos hay en la muestra que generamos anteriormente**\n"
   ]
  },
  {
   "cell_type": "code",
   "execution_count": 94,
   "metadata": {
    "collapsed": false
   },
   "outputs": [
    {
     "data": {
      "text/html": [
       "19"
      ],
      "text/latex": [
       "19"
      ],
      "text/markdown": [
       "19"
      ],
      "text/plain": [
       "[1] 19"
      ]
     },
     "metadata": {},
     "output_type": "display_data"
    }
   ],
   "source": [
    "contador<-0\n",
    "for(n in muestra){\n",
    "    es_primo<-TRUE\n",
    "    i<-2\n",
    "    while(i*i<=n && es_primo){\n",
    "        if(n%%i==0) es_primo=FALSE\n",
    "        i<-i+1\n",
    "    }    \n",
    "    if(es_primo) contador<-contador+1\n",
    "}\n",
    "contador"
   ]
  },
  {
   "cell_type": "code",
   "execution_count": 75,
   "metadata": {
    "collapsed": false
   },
   "outputs": [
    {
     "data": {
      "text/html": [
       "144.764827301084"
      ],
      "text/latex": [
       "144.764827301084"
      ],
      "text/markdown": [
       "144.764827301084"
      ],
      "text/plain": [
       "[1] 144.7648"
      ]
     },
     "metadata": {},
     "output_type": "display_data"
    }
   ],
   "source": [
    "#Cota superior para la cantidad de primos menores o iguales a 1000 \n",
    "1000/log(1000)"
   ]
  },
  {
   "cell_type": "code",
   "execution_count": 90,
   "metadata": {
    "collapsed": false
   },
   "outputs": [
    {
     "data": {
      "text/html": [
       "0.144764827301084"
      ],
      "text/latex": [
       "0.144764827301084"
      ],
      "text/markdown": [
       "0.144764827301084"
      ],
      "text/plain": [
       "[1] 0.1447648"
      ]
     },
     "metadata": {},
     "output_type": "display_data"
    }
   ],
   "source": [
    "#Probabilidad de que un numero elegido aleatoriamente del intervalo [1,1000] sea primo\n",
    "1/log(1000)"
   ]
  },
  {
   "cell_type": "code",
   "execution_count": 96,
   "metadata": {
    "collapsed": false
   },
   "outputs": [
    {
     "data": {
      "text/html": [
       "0.19"
      ],
      "text/latex": [
       "0.19"
      ],
      "text/markdown": [
       "0.19"
      ],
      "text/plain": [
       "[1] 0.19"
      ]
     },
     "metadata": {},
     "output_type": "display_data"
    }
   ],
   "source": [
    "#Proporción de numeros primos frente al total de numeros de la muestra\n",
    "contador/100\n"
   ]
  },
  {
   "cell_type": "markdown",
   "metadata": {},
   "source": [
    "**8) Supongamos que x es un vector numérico. Explica en detalle,como las siguientes expresiones son evaluadas y que valores toman.**\n",
    "\n",
    "**`sum(!is.na(x))`  \n",
    "`c(x,x[-(1:length(x))])`  \n",
    "`x[length(x) + 1/length(x)]`  \n",
    "`sum(x>mean(x))`  **  \n"
   ]
  },
  {
   "cell_type": "code",
   "execution_count": 165,
   "metadata": {
    "collapsed": false
   },
   "outputs": [
    {
     "data": {
      "text/html": [
       "<ol class=list-inline>\n",
       "\t<li>2</li>\n",
       "\t<li>4</li>\n",
       "\t<li>6</li>\n",
       "\t<li>8</li>\n",
       "\t<li>10</li>\n",
       "\t<li>12</li>\n",
       "\t<li>14</li>\n",
       "\t<li>16</li>\n",
       "\t<li>18</li>\n",
       "\t<li>20</li>\n",
       "</ol>\n"
      ],
      "text/latex": [
       "\\begin{enumerate*}\n",
       "\\item 2\n",
       "\\item 4\n",
       "\\item 6\n",
       "\\item 8\n",
       "\\item 10\n",
       "\\item 12\n",
       "\\item 14\n",
       "\\item 16\n",
       "\\item 18\n",
       "\\item 20\n",
       "\\end{enumerate*}\n"
      ],
      "text/markdown": [
       "1. 2\n",
       "2. 4\n",
       "3. 6\n",
       "4. 8\n",
       "5. 10\n",
       "6. 12\n",
       "7. 14\n",
       "8. 16\n",
       "9. 18\n",
       "10. 20\n",
       "\n",
       "\n"
      ],
      "text/plain": [
       " [1]  2  4  6  8 10 12 14 16 18 20"
      ]
     },
     "metadata": {},
     "output_type": "display_data"
    }
   ],
   "source": [
    "#Definimos un vector numerico x\n",
    "x<-c(2:20)\n",
    "x<-x[x%%2==0]\n",
    "x"
   ]
  },
  {
   "cell_type": "code",
   "execution_count": 124,
   "metadata": {
    "collapsed": false
   },
   "outputs": [
    {
     "data": {
      "text/html": [
       "<ol class=list-inline>\n",
       "\t<li>TRUE</li>\n",
       "\t<li>TRUE</li>\n",
       "\t<li>TRUE</li>\n",
       "\t<li>TRUE</li>\n",
       "\t<li>TRUE</li>\n",
       "\t<li>TRUE</li>\n",
       "\t<li>TRUE</li>\n",
       "\t<li>TRUE</li>\n",
       "\t<li>TRUE</li>\n",
       "\t<li>TRUE</li>\n",
       "</ol>\n"
      ],
      "text/latex": [
       "\\begin{enumerate*}\n",
       "\\item TRUE\n",
       "\\item TRUE\n",
       "\\item TRUE\n",
       "\\item TRUE\n",
       "\\item TRUE\n",
       "\\item TRUE\n",
       "\\item TRUE\n",
       "\\item TRUE\n",
       "\\item TRUE\n",
       "\\item TRUE\n",
       "\\end{enumerate*}\n"
      ],
      "text/markdown": [
       "1. TRUE\n",
       "2. TRUE\n",
       "3. TRUE\n",
       "4. TRUE\n",
       "5. TRUE\n",
       "6. TRUE\n",
       "7. TRUE\n",
       "8. TRUE\n",
       "9. TRUE\n",
       "10. TRUE\n",
       "\n",
       "\n"
      ],
      "text/plain": [
       " [1] TRUE TRUE TRUE TRUE TRUE TRUE TRUE TRUE TRUE TRUE"
      ]
     },
     "metadata": {},
     "output_type": "display_data"
    }
   ],
   "source": [
    "# 1)sum(!is.na(x))\n",
    "\n",
    "# La expresión !is.na(x) devuelve un vector de boolean correspondiente a si los elementos de x poseen un valor o no.\n",
    "!is.na(x)"
   ]
  },
  {
   "cell_type": "code",
   "execution_count": 125,
   "metadata": {
    "collapsed": false
   },
   "outputs": [
    {
     "data": {
      "text/html": [
       "10"
      ],
      "text/latex": [
       "10"
      ],
      "text/markdown": [
       "10"
      ],
      "text/plain": [
       "[1] 10"
      ]
     },
     "metadata": {},
     "output_type": "display_data"
    }
   ],
   "source": [
    "# La expresión sum(!is.na(x)) nos indica la cantidad de elementos que poseen un valor en el vector \"x\" ya que a la hora de \n",
    "# realizar una suma de elementos de un vector boolean, los elementos con valor TRUE cuentan como 1, y los que tienen valor  \n",
    "# FALSE cuentan como 0.\n",
    "sum(!is.na(x))"
   ]
  },
  {
   "cell_type": "code",
   "execution_count": 126,
   "metadata": {
    "collapsed": false
   },
   "outputs": [
    {
     "data": {
      "text/html": [
       "10"
      ],
      "text/latex": [
       "10"
      ],
      "text/markdown": [
       "10"
      ],
      "text/plain": [
       "[1] 10"
      ]
     },
     "metadata": {},
     "output_type": "display_data"
    }
   ],
   "source": [
    "# 2)c(x,x[-(1:length(x))])\n",
    "\n",
    "#La expresión length(x) devuelve la longitud del vector x\n",
    "length(x)"
   ]
  },
  {
   "cell_type": "code",
   "execution_count": 129,
   "metadata": {
    "collapsed": false
   },
   "outputs": [
    {
     "data": {
      "text/html": [
       "<ol class=list-inline>\n",
       "\t<li>1</li>\n",
       "\t<li>2</li>\n",
       "\t<li>3</li>\n",
       "\t<li>4</li>\n",
       "\t<li>5</li>\n",
       "\t<li>6</li>\n",
       "\t<li>7</li>\n",
       "\t<li>8</li>\n",
       "\t<li>9</li>\n",
       "\t<li>10</li>\n",
       "</ol>\n"
      ],
      "text/latex": [
       "\\begin{enumerate*}\n",
       "\\item 1\n",
       "\\item 2\n",
       "\\item 3\n",
       "\\item 4\n",
       "\\item 5\n",
       "\\item 6\n",
       "\\item 7\n",
       "\\item 8\n",
       "\\item 9\n",
       "\\item 10\n",
       "\\end{enumerate*}\n"
      ],
      "text/markdown": [
       "1. 1\n",
       "2. 2\n",
       "3. 3\n",
       "4. 4\n",
       "5. 5\n",
       "6. 6\n",
       "7. 7\n",
       "8. 8\n",
       "9. 9\n",
       "10. 10\n",
       "\n",
       "\n"
      ],
      "text/plain": [
       " [1]  1  2  3  4  5  6  7  8  9 10"
      ]
     },
     "metadata": {},
     "output_type": "display_data"
    },
    {
     "data": {
      "text/html": [
       "<ol class=list-inline>\n",
       "\t<li>-1</li>\n",
       "\t<li>-2</li>\n",
       "\t<li>-3</li>\n",
       "\t<li>-4</li>\n",
       "\t<li>-5</li>\n",
       "\t<li>-6</li>\n",
       "\t<li>-7</li>\n",
       "\t<li>-8</li>\n",
       "\t<li>-9</li>\n",
       "\t<li>-10</li>\n",
       "</ol>\n"
      ],
      "text/latex": [
       "\\begin{enumerate*}\n",
       "\\item -1\n",
       "\\item -2\n",
       "\\item -3\n",
       "\\item -4\n",
       "\\item -5\n",
       "\\item -6\n",
       "\\item -7\n",
       "\\item -8\n",
       "\\item -9\n",
       "\\item -10\n",
       "\\end{enumerate*}\n"
      ],
      "text/markdown": [
       "1. -1\n",
       "2. -2\n",
       "3. -3\n",
       "4. -4\n",
       "5. -5\n",
       "6. -6\n",
       "7. -7\n",
       "8. -8\n",
       "9. -9\n",
       "10. -10\n",
       "\n",
       "\n"
      ],
      "text/plain": [
       " [1]  -1  -2  -3  -4  -5  -6  -7  -8  -9 -10"
      ]
     },
     "metadata": {},
     "output_type": "display_data"
    }
   ],
   "source": [
    "#La expresión 1:length(x) devuelve un vector que contiene numeros negativos desde el 1 hasta la longitud del vector x\n",
    "1:length(x)\n",
    "\n",
    "#La expresión -(1:length(x)) multiplica todos los elementos por -1\n",
    "-(1:length(x))"
   ]
  },
  {
   "cell_type": "code",
   "execution_count": 146,
   "metadata": {
    "collapsed": false
   },
   "outputs": [
    {
     "data": {
      "text/html": [
       "<ol class=list-inline>\n",
       "\t<li>4</li>\n",
       "\t<li>6</li>\n",
       "\t<li>8</li>\n",
       "\t<li>10</li>\n",
       "\t<li>12</li>\n",
       "\t<li>14</li>\n",
       "\t<li>16</li>\n",
       "\t<li>18</li>\n",
       "\t<li>20</li>\n",
       "</ol>\n"
      ],
      "text/latex": [
       "\\begin{enumerate*}\n",
       "\\item 4\n",
       "\\item 6\n",
       "\\item 8\n",
       "\\item 10\n",
       "\\item 12\n",
       "\\item 14\n",
       "\\item 16\n",
       "\\item 18\n",
       "\\item 20\n",
       "\\end{enumerate*}\n"
      ],
      "text/markdown": [
       "1. 4\n",
       "2. 6\n",
       "3. 8\n",
       "4. 10\n",
       "5. 12\n",
       "6. 14\n",
       "7. 16\n",
       "8. 18\n",
       "9. 20\n",
       "\n",
       "\n"
      ],
      "text/plain": [
       "[1]  4  6  8 10 12 14 16 18 20"
      ]
     },
     "metadata": {},
     "output_type": "display_data"
    }
   ],
   "source": [
    "# La expresión x[-1] devuelve el vector x eliminando el 1er elemento\n",
    "x[-1]"
   ]
  },
  {
   "cell_type": "code",
   "execution_count": 143,
   "metadata": {
    "collapsed": false
   },
   "outputs": [
    {
     "data": {
      "text/html": [
       "<ol class=list-inline>\n",
       "\t<li>4</li>\n",
       "\t<li>6</li>\n",
       "\t<li>10</li>\n",
       "\t<li>12</li>\n",
       "\t<li>14</li>\n",
       "\t<li>18</li>\n",
       "\t<li>20</li>\n",
       "</ol>\n"
      ],
      "text/latex": [
       "\\begin{enumerate*}\n",
       "\\item 4\n",
       "\\item 6\n",
       "\\item 10\n",
       "\\item 12\n",
       "\\item 14\n",
       "\\item 18\n",
       "\\item 20\n",
       "\\end{enumerate*}\n"
      ],
      "text/markdown": [
       "1. 4\n",
       "2. 6\n",
       "3. 10\n",
       "4. 12\n",
       "5. 14\n",
       "6. 18\n",
       "7. 20\n",
       "\n",
       "\n"
      ],
      "text/plain": [
       "[1]  4  6 10 12 14 18 20"
      ]
     },
     "metadata": {},
     "output_type": "display_data"
    }
   ],
   "source": [
    "# De la misma manera, la expresión x[c(-1,-4,-8)] devuelve el vector x sin los elementos 1,4 y 8\n",
    "x[c(-1,-4,-8)]"
   ]
  },
  {
   "cell_type": "code",
   "execution_count": 147,
   "metadata": {
    "collapsed": false
   },
   "outputs": [
    {
     "data": {
      "text/html": [
       "<ol class=list-inline>\n",
       "</ol>\n"
      ],
      "text/latex": [
       "\\begin{enumerate*}\n",
       "\\end{enumerate*}\n"
      ],
      "text/markdown": [
       "\n",
       "\n"
      ],
      "text/plain": [
       "integer(0)"
      ]
     },
     "metadata": {},
     "output_type": "display_data"
    }
   ],
   "source": [
    "# Por lo que la expresión x[-(1:length(x))] devuelve un vector vacío ya que elimina todos los elementos de x\n",
    "x[-(1:length(x))] "
   ]
  },
  {
   "cell_type": "code",
   "execution_count": 150,
   "metadata": {
    "collapsed": false
   },
   "outputs": [
    {
     "data": {
      "text/html": [
       "<ol class=list-inline>\n",
       "\t<li>2</li>\n",
       "\t<li>4</li>\n",
       "\t<li>6</li>\n",
       "\t<li>8</li>\n",
       "\t<li>10</li>\n",
       "\t<li>12</li>\n",
       "\t<li>14</li>\n",
       "\t<li>16</li>\n",
       "\t<li>18</li>\n",
       "\t<li>20</li>\n",
       "</ol>\n"
      ],
      "text/latex": [
       "\\begin{enumerate*}\n",
       "\\item 2\n",
       "\\item 4\n",
       "\\item 6\n",
       "\\item 8\n",
       "\\item 10\n",
       "\\item 12\n",
       "\\item 14\n",
       "\\item 16\n",
       "\\item 18\n",
       "\\item 20\n",
       "\\end{enumerate*}\n"
      ],
      "text/markdown": [
       "1. 2\n",
       "2. 4\n",
       "3. 6\n",
       "4. 8\n",
       "5. 10\n",
       "6. 12\n",
       "7. 14\n",
       "8. 16\n",
       "9. 18\n",
       "10. 20\n",
       "\n",
       "\n"
      ],
      "text/plain": [
       " [1]  2  4  6  8 10 12 14 16 18 20"
      ]
     },
     "metadata": {},
     "output_type": "display_data"
    }
   ],
   "source": [
    "#Entonces c(x,x[-(1:length(x))]) devuelve c(x), el cual es el vector original\n",
    "c(x,x[-(1:length(x))])"
   ]
  },
  {
   "cell_type": "code",
   "execution_count": 158,
   "metadata": {
    "collapsed": false
   },
   "outputs": [
    {
     "data": {
      "text/plain": [
       "[1] NA"
      ]
     },
     "metadata": {},
     "output_type": "display_data"
    }
   ],
   "source": [
    "#3)x[length(x)+1]/length(x)\n",
    "# La expresión x[length(x)+1] devuelve el elemento numero (length(x)+1) de x, pero como este no existe, devolvera NA\n",
    "x[length(x)+1]"
   ]
  },
  {
   "cell_type": "code",
   "execution_count": 160,
   "metadata": {
    "collapsed": false
   },
   "outputs": [
    {
     "data": {
      "text/plain": [
       "[1] NA"
      ]
     },
     "metadata": {},
     "output_type": "display_data"
    }
   ],
   "source": [
    "# x[length(x)+1]/length(x) dividira NA sobre el tamaño del vector, el cual sera igualmente NA\n",
    "x[length(x)+1]/length(x)\n"
   ]
  },
  {
   "cell_type": "code",
   "execution_count": 169,
   "metadata": {
    "collapsed": false
   },
   "outputs": [
    {
     "data": {
      "text/html": [
       "<ol class=list-inline>\n",
       "\t<li>FALSE</li>\n",
       "\t<li>FALSE</li>\n",
       "\t<li>FALSE</li>\n",
       "\t<li>FALSE</li>\n",
       "\t<li>FALSE</li>\n",
       "\t<li>TRUE</li>\n",
       "\t<li>TRUE</li>\n",
       "\t<li>TRUE</li>\n",
       "\t<li>TRUE</li>\n",
       "\t<li>TRUE</li>\n",
       "</ol>\n"
      ],
      "text/latex": [
       "\\begin{enumerate*}\n",
       "\\item FALSE\n",
       "\\item FALSE\n",
       "\\item FALSE\n",
       "\\item FALSE\n",
       "\\item FALSE\n",
       "\\item TRUE\n",
       "\\item TRUE\n",
       "\\item TRUE\n",
       "\\item TRUE\n",
       "\\item TRUE\n",
       "\\end{enumerate*}\n"
      ],
      "text/markdown": [
       "1. FALSE\n",
       "2. FALSE\n",
       "3. FALSE\n",
       "4. FALSE\n",
       "5. FALSE\n",
       "6. TRUE\n",
       "7. TRUE\n",
       "8. TRUE\n",
       "9. TRUE\n",
       "10. TRUE\n",
       "\n",
       "\n"
      ],
      "text/plain": [
       " [1] FALSE FALSE FALSE FALSE FALSE  TRUE  TRUE  TRUE  TRUE  TRUE"
      ]
     },
     "metadata": {},
     "output_type": "display_data"
    }
   ],
   "source": [
    "#4) sum(x>mean(x))\n",
    "\n",
    "# devuelve un vector de boolean correspondiente a si los elementos de x cumplen la condición \"> mean(x)\"\n",
    "x>mean(x)"
   ]
  },
  {
   "cell_type": "code",
   "execution_count": 170,
   "metadata": {
    "collapsed": false
   },
   "outputs": [
    {
     "data": {
      "text/html": [
       "5"
      ],
      "text/latex": [
       "5"
      ],
      "text/markdown": [
       "5"
      ],
      "text/plain": [
       "[1] 5"
      ]
     },
     "metadata": {},
     "output_type": "display_data"
    }
   ],
   "source": [
    "# sum(x>mean(x)) devuelve la cantidad de elementos de x que cumplen la condición\n",
    "sum(x>mean(x))"
   ]
  },
  {
   "cell_type": "markdown",
   "metadata": {},
   "source": [
    "**9) Usando la función cumprod o otra relacionada, calcula:**\n",
    "\n",
    "$$1 + \\frac{2}{3} + (\\frac{2}{3}\\frac{4}{5}) + (\\frac{2}{3}\\frac{4}{5}\\frac{6}{7}) + ... + (\\frac{2}{3}\\frac{4}{5} ... \\frac{38}{39}). $$"
   ]
  },
  {
   "cell_type": "code",
   "execution_count": 193,
   "metadata": {
    "collapsed": false
   },
   "outputs": [
    {
     "data": {
      "text/html": [
       "<ol class=list-inline>\n",
       "\t<li>2</li>\n",
       "\t<li>4</li>\n",
       "\t<li>6</li>\n",
       "\t<li>8</li>\n",
       "\t<li>10</li>\n",
       "\t<li>12</li>\n",
       "\t<li>14</li>\n",
       "\t<li>16</li>\n",
       "\t<li>18</li>\n",
       "\t<li>20</li>\n",
       "\t<li>22</li>\n",
       "\t<li>24</li>\n",
       "\t<li>26</li>\n",
       "\t<li>28</li>\n",
       "\t<li>30</li>\n",
       "\t<li>32</li>\n",
       "\t<li>34</li>\n",
       "\t<li>36</li>\n",
       "\t<li>38</li>\n",
       "</ol>\n"
      ],
      "text/latex": [
       "\\begin{enumerate*}\n",
       "\\item 2\n",
       "\\item 4\n",
       "\\item 6\n",
       "\\item 8\n",
       "\\item 10\n",
       "\\item 12\n",
       "\\item 14\n",
       "\\item 16\n",
       "\\item 18\n",
       "\\item 20\n",
       "\\item 22\n",
       "\\item 24\n",
       "\\item 26\n",
       "\\item 28\n",
       "\\item 30\n",
       "\\item 32\n",
       "\\item 34\n",
       "\\item 36\n",
       "\\item 38\n",
       "\\end{enumerate*}\n"
      ],
      "text/markdown": [
       "1. 2\n",
       "2. 4\n",
       "3. 6\n",
       "4. 8\n",
       "5. 10\n",
       "6. 12\n",
       "7. 14\n",
       "8. 16\n",
       "9. 18\n",
       "10. 20\n",
       "11. 22\n",
       "12. 24\n",
       "13. 26\n",
       "14. 28\n",
       "15. 30\n",
       "16. 32\n",
       "17. 34\n",
       "18. 36\n",
       "19. 38\n",
       "\n",
       "\n"
      ],
      "text/plain": [
       " [1]  2  4  6  8 10 12 14 16 18 20 22 24 26 28 30 32 34 36 38"
      ]
     },
     "metadata": {},
     "output_type": "display_data"
    },
    {
     "data": {
      "text/html": [
       "<ol class=list-inline>\n",
       "\t<li>3</li>\n",
       "\t<li>5</li>\n",
       "\t<li>7</li>\n",
       "\t<li>9</li>\n",
       "\t<li>11</li>\n",
       "\t<li>13</li>\n",
       "\t<li>15</li>\n",
       "\t<li>17</li>\n",
       "\t<li>19</li>\n",
       "\t<li>21</li>\n",
       "\t<li>23</li>\n",
       "\t<li>25</li>\n",
       "\t<li>27</li>\n",
       "\t<li>29</li>\n",
       "\t<li>31</li>\n",
       "\t<li>33</li>\n",
       "\t<li>35</li>\n",
       "\t<li>37</li>\n",
       "\t<li>39</li>\n",
       "</ol>\n"
      ],
      "text/latex": [
       "\\begin{enumerate*}\n",
       "\\item 3\n",
       "\\item 5\n",
       "\\item 7\n",
       "\\item 9\n",
       "\\item 11\n",
       "\\item 13\n",
       "\\item 15\n",
       "\\item 17\n",
       "\\item 19\n",
       "\\item 21\n",
       "\\item 23\n",
       "\\item 25\n",
       "\\item 27\n",
       "\\item 29\n",
       "\\item 31\n",
       "\\item 33\n",
       "\\item 35\n",
       "\\item 37\n",
       "\\item 39\n",
       "\\end{enumerate*}\n"
      ],
      "text/markdown": [
       "1. 3\n",
       "2. 5\n",
       "3. 7\n",
       "4. 9\n",
       "5. 11\n",
       "6. 13\n",
       "7. 15\n",
       "8. 17\n",
       "9. 19\n",
       "10. 21\n",
       "11. 23\n",
       "12. 25\n",
       "13. 27\n",
       "14. 29\n",
       "15. 31\n",
       "16. 33\n",
       "17. 35\n",
       "18. 37\n",
       "19. 39\n",
       "\n",
       "\n"
      ],
      "text/plain": [
       " [1]  3  5  7  9 11 13 15 17 19 21 23 25 27 29 31 33 35 37 39"
      ]
     },
     "metadata": {},
     "output_type": "display_data"
    }
   ],
   "source": [
    "#Numeros pares de 2 a 38\n",
    "x<-2:38\n",
    "x<-x[x%%2==0]\n",
    "x\n",
    "#Numeros impares de 3 a 39\n",
    "y<-3:39\n",
    "y<-y[y%%2!=0]\n",
    "y"
   ]
  },
  {
   "cell_type": "code",
   "execution_count": 188,
   "metadata": {
    "collapsed": false
   },
   "outputs": [
    {
     "data": {
      "text/html": [
       "<ol class=list-inline>\n",
       "\t<li>0.666666666666667</li>\n",
       "\t<li>0.8</li>\n",
       "\t<li>0.857142857142857</li>\n",
       "\t<li>0.888888888888889</li>\n",
       "\t<li>0.909090909090909</li>\n",
       "\t<li>0.923076923076923</li>\n",
       "\t<li>0.933333333333333</li>\n",
       "\t<li>0.941176470588235</li>\n",
       "\t<li>0.947368421052632</li>\n",
       "\t<li>0.952380952380952</li>\n",
       "\t<li>0.956521739130435</li>\n",
       "\t<li>0.96</li>\n",
       "\t<li>0.962962962962963</li>\n",
       "\t<li>0.96551724137931</li>\n",
       "\t<li>0.967741935483871</li>\n",
       "\t<li>0.96969696969697</li>\n",
       "\t<li>0.971428571428571</li>\n",
       "\t<li>0.972972972972973</li>\n",
       "\t<li>0.974358974358974</li>\n",
       "</ol>\n"
      ],
      "text/latex": [
       "\\begin{enumerate*}\n",
       "\\item 0.666666666666667\n",
       "\\item 0.8\n",
       "\\item 0.857142857142857\n",
       "\\item 0.888888888888889\n",
       "\\item 0.909090909090909\n",
       "\\item 0.923076923076923\n",
       "\\item 0.933333333333333\n",
       "\\item 0.941176470588235\n",
       "\\item 0.947368421052632\n",
       "\\item 0.952380952380952\n",
       "\\item 0.956521739130435\n",
       "\\item 0.96\n",
       "\\item 0.962962962962963\n",
       "\\item 0.96551724137931\n",
       "\\item 0.967741935483871\n",
       "\\item 0.96969696969697\n",
       "\\item 0.971428571428571\n",
       "\\item 0.972972972972973\n",
       "\\item 0.974358974358974\n",
       "\\end{enumerate*}\n"
      ],
      "text/markdown": [
       "1. 0.666666666666667\n",
       "2. 0.8\n",
       "3. 0.857142857142857\n",
       "4. 0.888888888888889\n",
       "5. 0.909090909090909\n",
       "6. 0.923076923076923\n",
       "7. 0.933333333333333\n",
       "8. 0.941176470588235\n",
       "9. 0.947368421052632\n",
       "10. 0.952380952380952\n",
       "11. 0.956521739130435\n",
       "12. 0.96\n",
       "13. 0.962962962962963\n",
       "14. 0.96551724137931\n",
       "15. 0.967741935483871\n",
       "16. 0.96969696969697\n",
       "17. 0.971428571428571\n",
       "18. 0.972972972972973\n",
       "19. 0.974358974358974\n",
       "\n",
       "\n"
      ],
      "text/plain": [
       " [1] 0.6666667 0.8000000 0.8571429 0.8888889 0.9090909 0.9230769 0.9333333\n",
       " [8] 0.9411765 0.9473684 0.9523810 0.9565217 0.9600000 0.9629630 0.9655172\n",
       "[15] 0.9677419 0.9696970 0.9714286 0.9729730 0.9743590"
      ]
     },
     "metadata": {},
     "output_type": "display_data"
    }
   ],
   "source": [
    "#Vector que guarda (2/3,4/5,...,38/39)\n",
    "x/y"
   ]
  },
  {
   "cell_type": "code",
   "execution_count": 190,
   "metadata": {
    "collapsed": false
   },
   "outputs": [
    {
     "data": {
      "text/html": [
       "<ol class=list-inline>\n",
       "\t<li>0.666666666666667</li>\n",
       "\t<li>0.533333333333333</li>\n",
       "\t<li>0.457142857142857</li>\n",
       "\t<li>0.406349206349206</li>\n",
       "\t<li>0.369408369408369</li>\n",
       "\t<li>0.340992340992341</li>\n",
       "\t<li>0.318259518259518</li>\n",
       "\t<li>0.299538370126605</li>\n",
       "\t<li>0.283773192751521</li>\n",
       "\t<li>0.270260183572877</li>\n",
       "\t<li>0.258509740808839</li>\n",
       "\t<li>0.248169351176485</li>\n",
       "\t<li>0.238977893725504</li>\n",
       "\t<li>0.230737276700487</li>\n",
       "\t<li>0.223294138742407</li>\n",
       "\t<li>0.216527649689607</li>\n",
       "\t<li>0.210341145412761</li>\n",
       "\t<li>0.204656249590794</li>\n",
       "\t<li>0.19940865344744</li>\n",
       "</ol>\n"
      ],
      "text/latex": [
       "\\begin{enumerate*}\n",
       "\\item 0.666666666666667\n",
       "\\item 0.533333333333333\n",
       "\\item 0.457142857142857\n",
       "\\item 0.406349206349206\n",
       "\\item 0.369408369408369\n",
       "\\item 0.340992340992341\n",
       "\\item 0.318259518259518\n",
       "\\item 0.299538370126605\n",
       "\\item 0.283773192751521\n",
       "\\item 0.270260183572877\n",
       "\\item 0.258509740808839\n",
       "\\item 0.248169351176485\n",
       "\\item 0.238977893725504\n",
       "\\item 0.230737276700487\n",
       "\\item 0.223294138742407\n",
       "\\item 0.216527649689607\n",
       "\\item 0.210341145412761\n",
       "\\item 0.204656249590794\n",
       "\\item 0.19940865344744\n",
       "\\end{enumerate*}\n"
      ],
      "text/markdown": [
       "1. 0.666666666666667\n",
       "2. 0.533333333333333\n",
       "3. 0.457142857142857\n",
       "4. 0.406349206349206\n",
       "5. 0.369408369408369\n",
       "6. 0.340992340992341\n",
       "7. 0.318259518259518\n",
       "8. 0.299538370126605\n",
       "9. 0.283773192751521\n",
       "10. 0.270260183572877\n",
       "11. 0.258509740808839\n",
       "12. 0.248169351176485\n",
       "13. 0.238977893725504\n",
       "14. 0.230737276700487\n",
       "15. 0.223294138742407\n",
       "16. 0.216527649689607\n",
       "17. 0.210341145412761\n",
       "18. 0.204656249590794\n",
       "19. 0.19940865344744\n",
       "\n",
       "\n"
      ],
      "text/plain": [
       " [1] 0.6666667 0.5333333 0.4571429 0.4063492 0.3694084 0.3409923 0.3182595\n",
       " [8] 0.2995384 0.2837732 0.2702602 0.2585097 0.2481694 0.2389779 0.2307373\n",
       "[15] 0.2232941 0.2165276 0.2103411 0.2046562 0.1994087"
      ]
     },
     "metadata": {},
     "output_type": "display_data"
    }
   ],
   "source": [
    "#Vector que guarda (2/3,2/3*4/5,2/3*4/5*6/7,...,2/3*...*38/39)\n",
    "cumprod(x/y)"
   ]
  },
  {
   "cell_type": "code",
   "execution_count": 199,
   "metadata": {
    "collapsed": false
   },
   "outputs": [
    {
     "data": {
      "text/html": [
       "6.97634613789762"
      ],
      "text/latex": [
       "6.97634613789762"
      ],
      "text/markdown": [
       "6.97634613789762"
      ],
      "text/plain": [
       "[1] 6.976346"
      ]
     },
     "metadata": {},
     "output_type": "display_data"
    }
   ],
   "source": [
    "#1+ 2/3 + 2/3*4/5 + ... + 2/3*4/5*...*38/39\n",
    "1+sum(cumprod(x/y))"
   ]
  },
  {
   "cell_type": "markdown",
   "metadata": {},
   "source": [
    "**10) Sea X el número de unos obtenidos en 12 lanzamientos de un dado. Entonces X tiene una distribución binomial (n=12,p=1/6). \n",
    "Calcule una tabla de probabilidades binomiales para x=0,1,...,12 por dos métodos.**\n",
    "\n",
    "* **Usando la fórmula para la densidad: $P(X = K) = $${n}\\choose{k}$$ p^k(1-p)^{n-k}$ y aritmética en R. Usa 0:12 para la secuencia de x valores y la función `choose` para calcular los coeficientes binomiales $n\\choose{k}$ .**\n",
    "\n",
    "* **Usando la función dbinom de R y comparar tus resultados con ambos métodos.**"
   ]
  },
  {
   "cell_type": "code",
   "execution_count": 221,
   "metadata": {
    "collapsed": false
   },
   "outputs": [
    {
     "data": {
      "text/html": [
       "<ol class=list-inline>\n",
       "\t<li>0.112156654784615</li>\n",
       "\t<li>0.269175971483076</li>\n",
       "\t<li>0.296093568631384</li>\n",
       "\t<li>0.197395712420923</li>\n",
       "\t<li>0.0888280705894152</li>\n",
       "\t<li>0.0284249825886128</li>\n",
       "\t<li>0.006632495937343</li>\n",
       "\t<li>0.00113699930354451</li>\n",
       "\t<li>0.000142124912943064</li>\n",
       "\t<li>1.2633325594939e-05</li>\n",
       "\t<li>7.57999535696342e-07</li>\n",
       "\t<li>2.7563619479867e-08</li>\n",
       "\t<li>4.59393657997783e-10</li>\n",
       "</ol>\n"
      ],
      "text/latex": [
       "\\begin{enumerate*}\n",
       "\\item 0.112156654784615\n",
       "\\item 0.269175971483076\n",
       "\\item 0.296093568631384\n",
       "\\item 0.197395712420923\n",
       "\\item 0.0888280705894152\n",
       "\\item 0.0284249825886128\n",
       "\\item 0.006632495937343\n",
       "\\item 0.00113699930354451\n",
       "\\item 0.000142124912943064\n",
       "\\item 1.2633325594939e-05\n",
       "\\item 7.57999535696342e-07\n",
       "\\item 2.7563619479867e-08\n",
       "\\item 4.59393657997783e-10\n",
       "\\end{enumerate*}\n"
      ],
      "text/markdown": [
       "1. 0.112156654784615\n",
       "2. 0.269175971483076\n",
       "3. 0.296093568631384\n",
       "4. 0.197395712420923\n",
       "5. 0.0888280705894152\n",
       "6. 0.0284249825886128\n",
       "7. 0.006632495937343\n",
       "8. 0.00113699930354451\n",
       "9. 0.000142124912943064\n",
       "10. 1.2633325594939e-05\n",
       "11. 7.57999535696342e-07\n",
       "12. 2.7563619479867e-08\n",
       "13. 4.59393657997783e-10\n",
       "\n",
       "\n"
      ],
      "text/plain": [
       " [1] 1.121567e-01 2.691760e-01 2.960936e-01 1.973957e-01 8.882807e-02\n",
       " [6] 2.842498e-02 6.632496e-03 1.136999e-03 1.421249e-04 1.263333e-05\n",
       "[11] 7.579995e-07 2.756362e-08 4.593937e-10"
      ]
     },
     "metadata": {},
     "output_type": "display_data"
    },
    {
     "data": {
      "text/html": [
       "1"
      ],
      "text/latex": [
       "1"
      ],
      "text/markdown": [
       "1"
      ],
      "text/plain": [
       "[1] 1"
      ]
     },
     "metadata": {},
     "output_type": "display_data"
    }
   ],
   "source": [
    "x<-0:12\n",
    "p<-1/6\n",
    "\n",
    "choose(12,x)*(p)^x*(1-p)^(12-x)\n",
    "\n",
    "sum(choose(12,x)*(p)^x*(1-p)^(12-x))"
   ]
  },
  {
   "cell_type": "code",
   "execution_count": 228,
   "metadata": {
    "collapsed": false
   },
   "outputs": [
    {
     "data": {
      "text/html": [
       "<ol class=list-inline>\n",
       "\t<li>0.112156654784615</li>\n",
       "\t<li>0.269175971483076</li>\n",
       "\t<li>0.296093568631384</li>\n",
       "\t<li>0.197395712420923</li>\n",
       "\t<li>0.0888280705894151</li>\n",
       "\t<li>0.0284249825886128</li>\n",
       "\t<li>0.006632495937343</li>\n",
       "\t<li>0.00113699930354452</li>\n",
       "\t<li>0.000142124912943064</li>\n",
       "\t<li>1.2633325594939e-05</li>\n",
       "\t<li>7.57999535696343e-07</li>\n",
       "\t<li>2.7563619479867e-08</li>\n",
       "\t<li>4.59393657997783e-10</li>\n",
       "</ol>\n"
      ],
      "text/latex": [
       "\\begin{enumerate*}\n",
       "\\item 0.112156654784615\n",
       "\\item 0.269175971483076\n",
       "\\item 0.296093568631384\n",
       "\\item 0.197395712420923\n",
       "\\item 0.0888280705894151\n",
       "\\item 0.0284249825886128\n",
       "\\item 0.006632495937343\n",
       "\\item 0.00113699930354452\n",
       "\\item 0.000142124912943064\n",
       "\\item 1.2633325594939e-05\n",
       "\\item 7.57999535696343e-07\n",
       "\\item 2.7563619479867e-08\n",
       "\\item 4.59393657997783e-10\n",
       "\\end{enumerate*}\n"
      ],
      "text/markdown": [
       "1. 0.112156654784615\n",
       "2. 0.269175971483076\n",
       "3. 0.296093568631384\n",
       "4. 0.197395712420923\n",
       "5. 0.0888280705894151\n",
       "6. 0.0284249825886128\n",
       "7. 0.006632495937343\n",
       "8. 0.00113699930354452\n",
       "9. 0.000142124912943064\n",
       "10. 1.2633325594939e-05\n",
       "11. 7.57999535696343e-07\n",
       "12. 2.7563619479867e-08\n",
       "13. 4.59393657997783e-10\n",
       "\n",
       "\n"
      ],
      "text/plain": [
       " [1] 1.121567e-01 2.691760e-01 2.960936e-01 1.973957e-01 8.882807e-02\n",
       " [6] 2.842498e-02 6.632496e-03 1.136999e-03 1.421249e-04 1.263333e-05\n",
       "[11] 7.579995e-07 2.756362e-08 4.593937e-10"
      ]
     },
     "metadata": {},
     "output_type": "display_data"
    }
   ],
   "source": [
    "dbinom(0:12,size=12,prob=1/6)\n"
   ]
  }
 ],
 "metadata": {
  "kernelspec": {
   "display_name": "R",
   "language": "R",
   "name": "ir"
  },
  "language_info": {
   "codemirror_mode": "r",
   "file_extension": ".r",
   "mimetype": "text/x-r-source",
   "name": "R",
   "pygments_lexer": "r",
   "version": "3.3.0"
  }
 },
 "nbformat": 4,
 "nbformat_minor": 0
}
