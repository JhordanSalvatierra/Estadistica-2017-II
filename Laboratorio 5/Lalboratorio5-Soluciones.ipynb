{
 "cells": [
  {
   "cell_type": "markdown",
   "metadata": {},
   "source": [
    "##  Laboratorio 5 : Soluciones"
   ]
  },
  {
   "cell_type": "markdown",
   "metadata": {},
   "source": [
    "## Problema 1\n",
    "\n",
    "Dado un arreglo aleatorio de enteros (debe crearlo con sample) hallar el subarreglo con máxima suma posible de este y encontrar su subsecuencia creciente más larga y además la cantidad de secuencias diferentes que puede generar módulo $10^{9}+7$. Tome como referencia el siguiente arreglo:  \n",
    "  \n",
    "$$ A = \\{95 ,-43, -59, 10, -80, 20, -92, 75, 61, -50\\} $$\n",
    "\n",
    "### Solución:\n"
   ]
  },
  {
   "cell_type": "code",
   "execution_count": 37,
   "metadata": {
    "collapsed": false
   },
   "outputs": [
    {
     "name": "stdout",
     "output_type": "stream",
     "text": [
      "La suma maxima es  136 , y se consigue con el subarreglo de tamaño  2 con indice inicial  8  e indice final  9 \n",
      "El subarreglo en cuestion es:  75 61"
     ]
    }
   ],
   "source": [
    "#Definimos un arreglo de prueba\n",
    "A <- c(95,-43,-59,10,-80,20,-92,75,61,-50)\n",
    "\n",
    "#S guarda la suma acumulada de los elementos del arreglo\n",
    "S <- cumsum(A)\n",
    "\n",
    "#l y r guardaran los limites del subarreglo con mayor suma posible\n",
    "l <- -1\n",
    "r <- -1\n",
    "maximo <- -Inf\n",
    "\n",
    "#Se analizan todas las posibles sumas de los subarreglos y se obtiene el maximo\n",
    "for (i in 1:length(A)){\n",
    "    for (j in i:length(A)){\n",
    "        suma <- S[j]\n",
    "        if(i > 1) suma <- suma - S[i-1]\n",
    "        if(maximo < suma){\n",
    "            l <- i\n",
    "            r <- j\n",
    "            maximo <- suma\n",
    "        }\n",
    "    }\n",
    "}\n",
    "\n",
    "cat(\"La suma maxima es \",maximo,\", y se consigue con el subarreglo de tamaño \",r-l+1 ,\"con indice inicial \",l,\" e indice final \",\n",
    "    r,\"\\n\")\n",
    "Subarreglo<-A[l:r]\n",
    "cat(\"El subarreglo en cuestion es: \",Subarreglo)"
   ]
  },
  {
   "cell_type": "code",
   "execution_count": 38,
   "metadata": {
    "collapsed": false
   },
   "outputs": [
    {
     "name": "stdout",
     "output_type": "stream",
     "text": [
      "La subsecuencia con mayor longitud es:  75 y posee una longitud de:  1"
     ]
    }
   ],
   "source": [
    "#indice_incio e indice_fin guardaran los indices de las subsecuencias en orden creciente\n",
    "indice_inicio<-NULL\n",
    "indice_fin<-NULL\n",
    "indice_inicio[1]<-1\n",
    "indice_fin[1]<-1\n",
    "#size guardara los tamaños de las subsecuencias en orden creciente\n",
    "size<-NULL\n",
    "#Inicializamos a 1\n",
    "size[1]<-1\n",
    "#maxlen guardara la maxima longitud que se haya encontrado de una subsecuencia creciente\n",
    "maxlen<-1\n",
    "#subsecuencia_mas_grande nos dira cual subsecuencia de las encontradas es la de mayor longitud\n",
    "subsecuencia_mas_grande<-1\n",
    "#x representa el # de subsecuencia que se esta analizando\n",
    "x<-1\n",
    "#Empezamos analizando elementos del Subarreglo empezando del 2do elemento\n",
    "if(length(Subarreglo)>1){\n",
    "for(i in 2:length(Subarreglo)){\n",
    "        #Verificamos si el elemento es mayor que el anterior, en caso positivo el elemento se toma como parte de la subsecuencia\n",
    "        #creciente, en caso contrario dicho elemento se toma como el ultimo de la subsecuencia analizada y se comienza a analizar\n",
    "        #una subsecuencia diferente en caso de que queden mas elementos.\n",
    "        if(Subarreglo[i] > Subarreglo[i-1]){\n",
    "            indice_fin[x]<-i\n",
    "            size[x]<-size[x]+1\n",
    "            #En caso la subsecuencia actualmente analizada tenga mayor longitud que el maximo actual, dicha subsecuencia se tomara\n",
    "            #como la nueva subsecuencia de mayor longitud\n",
    "            if(size[x]>=maxlen){\n",
    "                  maxlen<-size[x]\n",
    "                  subsecuencia_mas_grande<-x\n",
    "                }\n",
    "        }\n",
    "        else{\n",
    "            x<-x+1\n",
    "            indice_inicio[x]<-i\n",
    "            indice_fin[x]<-i\n",
    "            size[x]<-1\n",
    "        }\n",
    "    }\n",
    "}\n",
    "\n",
    "#Luego de analizar todos los elementos mostramos la subsecuencia creciente con mayor longitud\n",
    "cat(\"La subsecuencia con mayor longitud es: \",Subarreglo[indice_inicio[subsecuencia_mas_grande]:indice_fin[subsecuencia_mas_grande]],\n",
    "   \"y posee una longitud de: \",size[subsecuencia_mas_grande])\n"
   ]
  },
  {
   "cell_type": "code",
   "execution_count": 39,
   "metadata": {
    "collapsed": false
   },
   "outputs": [
    {
     "data": {
      "text/html": [
       "4"
      ],
      "text/latex": [
       "4"
      ],
      "text/markdown": [
       "4"
      ],
      "text/plain": [
       "[1] 4"
      ]
     },
     "metadata": {},
     "output_type": "display_data"
    }
   ],
   "source": [
    "#La cantidad de posibles subsecuencias diferentes se calcula de la siguiente manera:\n",
    "length(Subarreglo)*(length(Subarreglo)+1)/2 +1"
   ]
  },
  {
   "cell_type": "markdown",
   "metadata": {
    "collapsed": true
   },
   "source": [
    "## Problema 2\n",
    "\n",
    "Asuma que tiene un diccionario de palabras de máxima longitud 6 y además compuestas solamente por letras minúsculas de la a a la j. Determine la letra que se repita más veces dentro de este conjunto.  \n",
    "  \n",
    "Tome como referencia la siguiente función, la cual devuelve el valor ASCII de un caracter.\n",
    "&nbsp;  \n",
    "\n",
    "&emsp;&emsp; `asc <- function(x) { strtoi(charToRaw(x),16L) }`  \n",
    "  \n",
    "Además para leer el archivo input_p2.txt se usa el siguiente comando:  \n",
    "  \n",
    "&emsp;&emsp;`X <- read.table(\"input_p2.txt\",sep=\" \")`  \n",
    "&emsp;&emsp;`X <- X[!is.na(X)]`  \n",
    "  \n",
    "Descárguelo del siguiente link: [Input](https://github.com/racsosabe/Estadistica-2017-II/blob/master/input_p2.txt)  \n",
    "\n",
    "### Solución:\n"
   ]
  },
  {
   "cell_type": "code",
   "execution_count": 9,
   "metadata": {
    "collapsed": false
   },
   "outputs": [
    {
     "data": {
      "text/html": [
       "<ol class=list-inline>\n",
       "\t<li>112</li>\n",
       "\t<li>114</li>\n",
       "\t<li>117</li>\n",
       "\t<li>101</li>\n",
       "\t<li>98</li>\n",
       "\t<li>97</li>\n",
       "</ol>\n"
      ],
      "text/latex": [
       "\\begin{enumerate*}\n",
       "\\item 112\n",
       "\\item 114\n",
       "\\item 117\n",
       "\\item 101\n",
       "\\item 98\n",
       "\\item 97\n",
       "\\end{enumerate*}\n"
      ],
      "text/markdown": [
       "1. 112\n",
       "2. 114\n",
       "3. 117\n",
       "4. 101\n",
       "5. 98\n",
       "6. 97\n",
       "\n",
       "\n"
      ],
      "text/plain": [
       "[1] 112 114 117 101  98  97"
      ]
     },
     "metadata": {},
     "output_type": "display_data"
    }
   ],
   "source": [
    "#Definimos la función que devuelve el codigo ASCII de una letra\n",
    "asc <- function(x) { strtoi(charToRaw(x),16L) }\n",
    "#Probamos dicha función con una palabra y notamos que nos devuelve el codigo ASCII de cada letra que conforma la palabra\n",
    "asc(\"prueba\")"
   ]
  },
  {
   "cell_type": "code",
   "execution_count": 12,
   "metadata": {
    "collapsed": false
   },
   "outputs": [
    {
     "data": {
      "text/html": [
       "<ol class=list-inline>\n",
       "\t<li>\"bb\"</li>\n",
       "\t<li>\"haj\"</li>\n",
       "\t<li>\"hicg\"</li>\n",
       "\t<li>\"ibi\"</li>\n",
       "\t<li>\"ghhjda\"</li>\n",
       "\t<li>\"gej\"</li>\n",
       "\t<li>\"jfa\"</li>\n",
       "\t<li>\"jcdiec\"</li>\n",
       "\t<li>\"bda\"</li>\n",
       "\t<li>\"hi\"</li>\n",
       "\t<li>\"ifg\"</li>\n",
       "\t<li>\"ci\"</li>\n",
       "\t<li>\"c\"</li>\n",
       "\t<li>\"e\"</li>\n",
       "\t<li>\"dbiidf\"</li>\n",
       "\t<li>\"hjibde\"</li>\n",
       "\t<li>\"ge\"</li>\n",
       "\t<li>\"g\"</li>\n",
       "\t<li>\"dej\"</li>\n",
       "\t<li>\"jbhjgb\"</li>\n",
       "\t<li>\"de\"</li>\n",
       "\t<li>\"ddabe\"</li>\n",
       "\t<li>\"cejfie\"</li>\n",
       "\t<li>\"egaaj\"</li>\n",
       "\t<li>\"j\"</li>\n",
       "\t<li>\"fdaejc\"</li>\n",
       "\t<li>\"eg\"</li>\n",
       "\t<li>\"hbaig\"</li>\n",
       "\t<li>\"aaiibe\"</li>\n",
       "\t<li>\"hbeic\"</li>\n",
       "\t<li>\"h\"</li>\n",
       "\t<li>\"hc\"</li>\n",
       "\t<li>\"d\"</li>\n",
       "\t<li>\"iefe\"</li>\n",
       "\t<li>\"fic\"</li>\n",
       "\t<li>\"ecig\"</li>\n",
       "\t<li>\"g\"</li>\n",
       "\t<li>\"hajagh\"</li>\n",
       "\t<li>\"igi\"</li>\n",
       "\t<li>\"jecccg\"</li>\n",
       "\t<li>\"ibf\"</li>\n",
       "\t<li>\"fac\"</li>\n",
       "\t<li>\"ibcgaj\"</li>\n",
       "\t<li>\"j\"</li>\n",
       "\t<li>\"gidg\"</li>\n",
       "</ol>\n"
      ],
      "text/latex": [
       "\\begin{enumerate*}\n",
       "\\item \"bb\"\n",
       "\\item \"haj\"\n",
       "\\item \"hicg\"\n",
       "\\item \"ibi\"\n",
       "\\item \"ghhjda\"\n",
       "\\item \"gej\"\n",
       "\\item \"jfa\"\n",
       "\\item \"jcdiec\"\n",
       "\\item \"bda\"\n",
       "\\item \"hi\"\n",
       "\\item \"ifg\"\n",
       "\\item \"ci\"\n",
       "\\item \"c\"\n",
       "\\item \"e\"\n",
       "\\item \"dbiidf\"\n",
       "\\item \"hjibde\"\n",
       "\\item \"ge\"\n",
       "\\item \"g\"\n",
       "\\item \"dej\"\n",
       "\\item \"jbhjgb\"\n",
       "\\item \"de\"\n",
       "\\item \"ddabe\"\n",
       "\\item \"cejfie\"\n",
       "\\item \"egaaj\"\n",
       "\\item \"j\"\n",
       "\\item \"fdaejc\"\n",
       "\\item \"eg\"\n",
       "\\item \"hbaig\"\n",
       "\\item \"aaiibe\"\n",
       "\\item \"hbeic\"\n",
       "\\item \"h\"\n",
       "\\item \"hc\"\n",
       "\\item \"d\"\n",
       "\\item \"iefe\"\n",
       "\\item \"fic\"\n",
       "\\item \"ecig\"\n",
       "\\item \"g\"\n",
       "\\item \"hajagh\"\n",
       "\\item \"igi\"\n",
       "\\item \"jecccg\"\n",
       "\\item \"ibf\"\n",
       "\\item \"fac\"\n",
       "\\item \"ibcgaj\"\n",
       "\\item \"j\"\n",
       "\\item \"gidg\"\n",
       "\\end{enumerate*}\n"
      ],
      "text/markdown": [
       "1. \"bb\"\n",
       "2. \"haj\"\n",
       "3. \"hicg\"\n",
       "4. \"ibi\"\n",
       "5. \"ghhjda\"\n",
       "6. \"gej\"\n",
       "7. \"jfa\"\n",
       "8. \"jcdiec\"\n",
       "9. \"bda\"\n",
       "10. \"hi\"\n",
       "11. \"ifg\"\n",
       "12. \"ci\"\n",
       "13. \"c\"\n",
       "14. \"e\"\n",
       "15. \"dbiidf\"\n",
       "16. \"hjibde\"\n",
       "17. \"ge\"\n",
       "18. \"g\"\n",
       "19. \"dej\"\n",
       "20. \"jbhjgb\"\n",
       "21. \"de\"\n",
       "22. \"ddabe\"\n",
       "23. \"cejfie\"\n",
       "24. \"egaaj\"\n",
       "25. \"j\"\n",
       "26. \"fdaejc\"\n",
       "27. \"eg\"\n",
       "28. \"hbaig\"\n",
       "29. \"aaiibe\"\n",
       "30. \"hbeic\"\n",
       "31. \"h\"\n",
       "32. \"hc\"\n",
       "33. \"d\"\n",
       "34. \"iefe\"\n",
       "35. \"fic\"\n",
       "36. \"ecig\"\n",
       "37. \"g\"\n",
       "38. \"hajagh\"\n",
       "39. \"igi\"\n",
       "40. \"jecccg\"\n",
       "41. \"ibf\"\n",
       "42. \"fac\"\n",
       "43. \"ibcgaj\"\n",
       "44. \"j\"\n",
       "45. \"gidg\"\n",
       "\n",
       "\n"
      ],
      "text/plain": [
       " [1] \"bb\"     \"haj\"    \"hicg\"   \"ibi\"    \"ghhjda\" \"gej\"    \"jfa\"    \"jcdiec\"\n",
       " [9] \"bda\"    \"hi\"     \"ifg\"    \"ci\"     \"c\"      \"e\"      \"dbiidf\" \"hjibde\"\n",
       "[17] \"ge\"     \"g\"      \"dej\"    \"jbhjgb\" \"de\"     \"ddabe\"  \"cejfie\" \"egaaj\" \n",
       "[25] \"j\"      \"fdaejc\" \"eg\"     \"hbaig\"  \"aaiibe\" \"hbeic\"  \"h\"      \"hc\"    \n",
       "[33] \"d\"      \"iefe\"   \"fic\"    \"ecig\"   \"g\"      \"hajagh\" \"igi\"    \"jecccg\"\n",
       "[41] \"ibf\"    \"fac\"    \"ibcgaj\" \"j\"      \"gidg\"  "
      ]
     },
     "metadata": {},
     "output_type": "display_data"
    }
   ],
   "source": [
    "#Guardamos el input a analizar en la variable X\n",
    "X <- read.table(\"input_p2.txt\",sep=\" \")\n",
    "#Quitamos los elementos NA\n",
    "X <- X[!is.na(X)]\n",
    "#Verificamos su contenido\n",
    "X"
   ]
  },
  {
   "cell_type": "code",
   "execution_count": 100,
   "metadata": {
    "collapsed": false
   },
   "outputs": [
    {
     "data": {
      "text/html": [
       "<ol class=list-inline>\n",
       "\t<li>0</li>\n",
       "\t<li>0</li>\n",
       "\t<li>0</li>\n",
       "\t<li>0</li>\n",
       "\t<li>0</li>\n",
       "\t<li>0</li>\n",
       "\t<li>0</li>\n",
       "\t<li>0</li>\n",
       "\t<li>0</li>\n",
       "\t<li>0</li>\n",
       "</ol>\n"
      ],
      "text/latex": [
       "\\begin{enumerate*}\n",
       "\\item 0\n",
       "\\item 0\n",
       "\\item 0\n",
       "\\item 0\n",
       "\\item 0\n",
       "\\item 0\n",
       "\\item 0\n",
       "\\item 0\n",
       "\\item 0\n",
       "\\item 0\n",
       "\\end{enumerate*}\n"
      ],
      "text/markdown": [
       "1. 0\n",
       "2. 0\n",
       "3. 0\n",
       "4. 0\n",
       "5. 0\n",
       "6. 0\n",
       "7. 0\n",
       "8. 0\n",
       "9. 0\n",
       "10. 0\n",
       "\n",
       "\n"
      ],
      "text/plain": [
       " [1] 0 0 0 0 0 0 0 0 0 0"
      ]
     },
     "metadata": {},
     "output_type": "display_data"
    }
   ],
   "source": [
    "#Definimos un contador para los 10 letras diferentes (a-j)\n",
    "contador<-replicate(10,0)\n",
    "contador"
   ]
  },
  {
   "cell_type": "code",
   "execution_count": 101,
   "metadata": {
    "collapsed": false
   },
   "outputs": [
    {
     "data": {
      "text/html": [
       "<ol class=list-inline>\n",
       "\t<li>15</li>\n",
       "\t<li>14</li>\n",
       "\t<li>16</li>\n",
       "\t<li>13</li>\n",
       "\t<li>19</li>\n",
       "\t<li>9</li>\n",
       "\t<li>18</li>\n",
       "\t<li>13</li>\n",
       "\t<li>23</li>\n",
       "\t<li>17</li>\n",
       "</ol>\n"
      ],
      "text/latex": [
       "\\begin{enumerate*}\n",
       "\\item 15\n",
       "\\item 14\n",
       "\\item 16\n",
       "\\item 13\n",
       "\\item 19\n",
       "\\item 9\n",
       "\\item 18\n",
       "\\item 13\n",
       "\\item 23\n",
       "\\item 17\n",
       "\\end{enumerate*}\n"
      ],
      "text/markdown": [
       "1. 15\n",
       "2. 14\n",
       "3. 16\n",
       "4. 13\n",
       "5. 19\n",
       "6. 9\n",
       "7. 18\n",
       "8. 13\n",
       "9. 23\n",
       "10. 17\n",
       "\n",
       "\n"
      ],
      "text/plain": [
       " [1] 15 14 16 13 19  9 18 13 23 17"
      ]
     },
     "metadata": {},
     "output_type": "display_data"
    }
   ],
   "source": [
    "#Analizamos palabra por palabra\n",
    "for(palabra in X){\n",
    "    #Hacemos la correspondecia 'a'=1,'b'=2,... restando el valor de asc('a') y sumando el valor de 1, para motivos prácticos\n",
    "    t<-asc(palabra)-asc('a')+1\n",
    "    #t guarda el vector de indices correspondientes al contador al cual se le deben adicionar 1\n",
    "    for(i in t)\n",
    "    contador[i]<-contador[i]+1\n",
    "}\n",
    "\n",
    "#Verificamos el contador\n",
    "contador\n"
   ]
  },
  {
   "cell_type": "code",
   "execution_count": 109,
   "metadata": {
    "collapsed": false
   },
   "outputs": [
    {
     "data": {
      "text/html": [
       "9"
      ],
      "text/latex": [
       "9"
      ],
      "text/markdown": [
       "9"
      ],
      "text/plain": [
       "[1] 9"
      ]
     },
     "metadata": {},
     "output_type": "display_data"
    }
   ],
   "source": [
    "#Identificamos el indice con mayor valor. Si usamos which.max() solo nos dara el indice del 1er valor máximo que encuentre.\n",
    "posicion<-which(contador == max(contador) )\n",
    "posicion"
   ]
  },
  {
   "cell_type": "code",
   "execution_count": 113,
   "metadata": {
    "collapsed": false
   },
   "outputs": [
    {
     "name": "stdout",
     "output_type": "stream",
     "text": [
      "La letra que se repite más veces es:  i"
     ]
    }
   ],
   "source": [
    "#Traducimos dicha posición a la letra correspondiente\n",
    "cat(\"La letra que se repite más veces es: \",letters[posicion])"
   ]
  },
  {
   "cell_type": "markdown",
   "metadata": {},
   "source": [
    "## Problema 3\n",
    "\n",
    "Halle el $n$-ésimo término de Fibonacci usando matrices. Pruebe para $n = 25$\n",
    "\n",
    "### Solución:\n",
    "\n",
    "$$ F_{i} = F_{i-1} + F_{i-2} $$  \n",
    "$$ F_{0}=0 $$  \n",
    "$$ F_{1}=1 $$  \n",
    "Aplicamos la siguiente fórmula para hallar el termino `n`\n",
    "$$ \\begin{pmatrix} F_{n+1} \\\\ F_{n} \\end{pmatrix} = \\begin{pmatrix} 1 &1 \\\\\\\\ 1 &0 \\end{pmatrix}^{n}\\begin{pmatrix}F_{1} \\\\ F_{0} \\end{pmatrix} $$"
   ]
  },
  {
   "cell_type": "code",
   "execution_count": 154,
   "metadata": {
    "collapsed": false
   },
   "outputs": [
    {
     "data": {
      "text/html": [
       "<table>\n",
       "<tbody>\n",
       "\t<tr><td>1</td><td>1</td></tr>\n",
       "\t<tr><td>1</td><td>0</td></tr>\n",
       "</tbody>\n",
       "</table>\n"
      ],
      "text/latex": [
       "\\begin{tabular}{ll}\n",
       "\t 1 & 1\\\\\n",
       "\t 1 & 0\\\\\n",
       "\\end{tabular}\n"
      ],
      "text/markdown": [
       "1. 1\n",
       "2. 1\n",
       "3. 1\n",
       "4. 0\n",
       "\n",
       "\n"
      ],
      "text/plain": [
       "     [,1] [,2]\n",
       "[1,]    1    1\n",
       "[2,]    1    0"
      ]
     },
     "metadata": {},
     "output_type": "display_data"
    }
   ],
   "source": [
    "\n",
    "# Secuencia de Fibonacci: 1, 1, 2, 3, 5, 8, 13, 21, 34, 55, 89, 144, 233, 377, 610, 987, 1597, 2584, 4181,6765, 10946, 17711, \n",
    "# 28657, 46368, 75025 (termino 25)\n",
    "\n",
    "#Definimos n para el termino que queremos hallar\n",
    "n <- 25\n",
    "#Definimos la matriz principal\n",
    "coeficientes <- c(1,1,1,0)\n",
    "M <- matrix(coeficientes,nrow=2,byrow=T)\n",
    "M"
   ]
  },
  {
   "cell_type": "code",
   "execution_count": 159,
   "metadata": {
    "collapsed": false
   },
   "outputs": [
    {
     "name": "stdout",
     "output_type": "stream",
     "text": [
      "[1] 75025\n"
     ]
    }
   ],
   "source": [
    "#N guardara el resultado de las multiplicaciones de M consigo misma\n",
    "N <- M\n",
    "#Definimos el vector correspondiente a (F1 F0)\n",
    "F <- c(1,0)\n",
    "\n",
    "#Multiplicamos M consigo misma (n-1) veces consecutivas para obtener M^n\n",
    "i<-1\n",
    "while(i<n){\n",
    "    N <- N %*% M\n",
    "    i<-i+1\n",
    "}\n",
    "#Finalmente multiplicamos M^n por (F1 F0)\n",
    "F <- N %*% F\n",
    "#El 2do termino del resultado nos mostrara el valor del n-esimo termino de la sucesion de Fibonacci\n",
    "print(F[2])\n",
    "\n"
   ]
  },
  {
   "cell_type": "markdown",
   "metadata": {},
   "source": [
    "## Problema 4\n",
    "\n",
    "Suponga que la matriz de adyacencia de un grafo es la siguiente:  \n",
    "$$ Adj = \\begin{pmatrix} 0 &1 &1 &0 \\\\ 1 &0 &0 &0 \\\\ 1&1 &0 &0 \\\\ 0 &0 &1 &0 \\end{pmatrix} $$\n",
    "\n",
    "Si quisieramos tener la cantidad de caminos de dos a dos nodos de longitud $k$ en otra matriz M, determine de qué nodo $u$ a qué nodo $v$ se puede obtener la mayor cantidad de estos caminos.  \n",
    "Pruebe para $k=10$.\n",
    "\n",
    "### Solución:\n",
    "\n",
    "Calculamos M de la siguiente manera:  \n",
    "$$M=Adj^n$$"
   ]
  },
  {
   "cell_type": "code",
   "execution_count": 219,
   "metadata": {
    "collapsed": false
   },
   "outputs": [
    {
     "data": {
      "text/html": [
       "<table>\n",
       "<tbody>\n",
       "\t<tr><td>1</td><td>0</td><td>0</td><td>0</td></tr>\n",
       "\t<tr><td>0</td><td>1</td><td>0</td><td>0</td></tr>\n",
       "\t<tr><td>0</td><td>0</td><td>1</td><td>0</td></tr>\n",
       "\t<tr><td>0</td><td>0</td><td>0</td><td>1</td></tr>\n",
       "</tbody>\n",
       "</table>\n"
      ],
      "text/latex": [
       "\\begin{tabular}{llll}\n",
       "\t 1 & 0 & 0 & 0\\\\\n",
       "\t 0 & 1 & 0 & 0\\\\\n",
       "\t 0 & 0 & 1 & 0\\\\\n",
       "\t 0 & 0 & 0 & 1\\\\\n",
       "\\end{tabular}\n"
      ],
      "text/markdown": [
       "1. 1\n",
       "2. 0\n",
       "3. 0\n",
       "4. 0\n",
       "5. 0\n",
       "6. 1\n",
       "7. 0\n",
       "8. 0\n",
       "9. 0\n",
       "10. 0\n",
       "11. 1\n",
       "12. 0\n",
       "13. 0\n",
       "14. 0\n",
       "15. 0\n",
       "16. 1\n",
       "\n",
       "\n"
      ],
      "text/plain": [
       "     [,1] [,2] [,3] [,4]\n",
       "[1,]    1    0    0    0\n",
       "[2,]    0    1    0    0\n",
       "[3,]    0    0    1    0\n",
       "[4,]    0    0    0    1"
      ]
     },
     "metadata": {},
     "output_type": "display_data"
    }
   ],
   "source": [
    "#La matriz Caminos representa la cantidad de caminos de longitud k de un nodo u a un nodo v\n",
    "#Inicializamos con la matriz Identidad de tamaño 4\n",
    "Caminos<-diag(4)\n",
    "Caminos"
   ]
  },
  {
   "cell_type": "code",
   "execution_count": 220,
   "metadata": {
    "collapsed": false
   },
   "outputs": [
    {
     "data": {
      "text/html": [
       "<table>\n",
       "<tbody>\n",
       "\t<tr><td>0</td><td>1</td><td>1</td><td>0</td></tr>\n",
       "\t<tr><td>1</td><td>0</td><td>0</td><td>0</td></tr>\n",
       "\t<tr><td>1</td><td>1</td><td>0</td><td>0</td></tr>\n",
       "\t<tr><td>0</td><td>0</td><td>1</td><td>0</td></tr>\n",
       "</tbody>\n",
       "</table>\n"
      ],
      "text/latex": [
       "\\begin{tabular}{llll}\n",
       "\t 0 & 1 & 1 & 0\\\\\n",
       "\t 1 & 0 & 0 & 0\\\\\n",
       "\t 1 & 1 & 0 & 0\\\\\n",
       "\t 0 & 0 & 1 & 0\\\\\n",
       "\\end{tabular}\n"
      ],
      "text/markdown": [
       "1. 0\n",
       "2. 1\n",
       "3. 1\n",
       "4. 0\n",
       "5. 1\n",
       "6. 0\n",
       "7. 1\n",
       "8. 0\n",
       "9. 1\n",
       "10. 0\n",
       "11. 0\n",
       "12. 1\n",
       "13. 0\n",
       "14. 0\n",
       "15. 0\n",
       "16. 0\n",
       "\n",
       "\n"
      ],
      "text/plain": [
       "     [,1] [,2] [,3] [,4]\n",
       "[1,]    0    1    1    0\n",
       "[2,]    1    0    0    0\n",
       "[3,]    1    1    0    0\n",
       "[4,]    0    0    1    0"
      ]
     },
     "metadata": {},
     "output_type": "display_data"
    }
   ],
   "source": [
    "#k representa la longitud de los caminos\n",
    "k <- 10\n",
    "#Creamos la matriz de Adyacencia\n",
    "data <- c(0,1,1,0,1,0,0,0,1,1,0,0,0,0,1,0)\n",
    "Adj <- matrix(data,nrow=4,byrow=T)\n",
    "Adj"
   ]
  },
  {
   "cell_type": "code",
   "execution_count": 221,
   "metadata": {
    "collapsed": false
   },
   "outputs": [
    {
     "data": {
      "text/html": [
       "<table>\n",
       "<tbody>\n",
       "\t<tr><td>56</td><td>55</td><td>33</td><td> 0</td></tr>\n",
       "\t<tr><td>33</td><td>34</td><td>22</td><td> 0</td></tr>\n",
       "\t<tr><td>55</td><td>55</td><td>34</td><td> 0</td></tr>\n",
       "\t<tr><td>34</td><td>34</td><td>21</td><td> 0</td></tr>\n",
       "</tbody>\n",
       "</table>\n"
      ],
      "text/latex": [
       "\\begin{tabular}{llll}\n",
       "\t 56 & 55 & 33 &  0\\\\\n",
       "\t 33 & 34 & 22 &  0\\\\\n",
       "\t 55 & 55 & 34 &  0\\\\\n",
       "\t 34 & 34 & 21 &  0\\\\\n",
       "\\end{tabular}\n"
      ],
      "text/markdown": [
       "1. 56\n",
       "2. 33\n",
       "3. 55\n",
       "4. 34\n",
       "5. 55\n",
       "6. 34\n",
       "7. 55\n",
       "8. 34\n",
       "9. 33\n",
       "10. 22\n",
       "11. 34\n",
       "12. 21\n",
       "13. 0\n",
       "14. 0\n",
       "15. 0\n",
       "16. 0\n",
       "\n",
       "\n"
      ],
      "text/plain": [
       "     [,1] [,2] [,3] [,4]\n",
       "[1,]   56   55   33    0\n",
       "[2,]   33   34   22    0\n",
       "[3,]   55   55   34    0\n",
       "[4,]   34   34   21    0"
      ]
     },
     "metadata": {},
     "output_type": "display_data"
    }
   ],
   "source": [
    "#Multiplicamos la matriz de adyacencia consigo misma k veces\n",
    "i<-1\n",
    "while(i<=k){\n",
    "    Caminos <- Caminos %*% Adj\n",
    "    i <- i+1\n",
    "}\n",
    "\n",
    "Caminos"
   ]
  },
  {
   "cell_type": "code",
   "execution_count": 222,
   "metadata": {
    "collapsed": false
   },
   "outputs": [
    {
     "data": {
      "text/html": [
       "56"
      ],
      "text/latex": [
       "56"
      ],
      "text/markdown": [
       "56"
      ],
      "text/plain": [
       "[1] 56"
      ]
     },
     "metadata": {},
     "output_type": "display_data"
    }
   ],
   "source": [
    "#Obtenemos el indice del valor máximo de la matriz\n",
    "indice<-which.max(Caminos)\n",
    "#Mostramos el numero maximo de caminos de longitud k\n",
    "Caminos[indice]"
   ]
  },
  {
   "cell_type": "code",
   "execution_count": 238,
   "metadata": {
    "collapsed": false
   },
   "outputs": [
    {
     "data": {
      "text/html": [
       "<table>\n",
       "<thead><tr><th scope=col>row</th><th scope=col>col</th></tr></thead>\n",
       "<tbody>\n",
       "\t<tr><td>1</td><td>1</td></tr>\n",
       "</tbody>\n",
       "</table>\n"
      ],
      "text/latex": [
       "\\begin{tabular}{ll}\n",
       " row & col\\\\\n",
       "\\hline\n",
       "\t 1 & 1\\\\\n",
       "\\end{tabular}\n"
      ],
      "text/markdown": [
       "1. 1\n",
       "2. 1\n",
       "\n",
       "\n"
      ],
      "text/plain": [
       "     row col\n",
       "[1,]   1   1"
      ]
     },
     "metadata": {},
     "output_type": "display_data"
    },
    {
     "name": "stdout",
     "output_type": "stream",
     "text": [
      "La mayor cantidad de caminos se obtiene desde el nodo  1 hacia el nodo  1"
     ]
    }
   ],
   "source": [
    "#Obtenemos los nodos u y v que contienen la maxima cantidad de caminos\n",
    "which(Caminos==max(Caminos),arr.ind=TRUE)\n",
    "u<-which(Caminos==max(Caminos),arr.ind=TRUE)[1]\n",
    "v<-which(Caminos==max(Caminos),arr.ind=TRUE)[2]\n",
    "cat(\"La mayor cantidad de caminos se obtiene desde el nodo \",u,\"hacia el nodo \",v)"
   ]
  },
  {
   "cell_type": "code",
   "execution_count": null,
   "metadata": {
    "collapsed": false
   },
   "outputs": [],
   "source": []
  }
 ],
 "metadata": {
  "kernelspec": {
   "display_name": "R",
   "language": "R",
   "name": "ir"
  },
  "language_info": {
   "codemirror_mode": "r",
   "file_extension": ".r",
   "mimetype": "text/x-r-source",
   "name": "R",
   "pygments_lexer": "r",
   "version": "3.3.0"
  }
 },
 "nbformat": 4,
 "nbformat_minor": 2
}
