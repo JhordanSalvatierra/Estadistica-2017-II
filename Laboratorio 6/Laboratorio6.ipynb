{
 "cells": [
  {
   "cell_type": "markdown",
   "metadata": {},
   "source": [
    "# Laboratorio 6 - Ejercicios\n",
    "  \n",
    "\n",
    "\n",
    "**1) ¿Qué ocurre cuando a un factor modificas sus niveles(levels)?**\n",
    "\n",
    "`f1 <- factor(letters)`  \n",
    "`levels(f1) <- rev(levels(f1))`\n"
   ]
  },
  {
   "cell_type": "code",
   "execution_count": 8,
   "metadata": {
    "collapsed": false
   },
   "outputs": [
    {
     "data": {
      "text/html": [
       "<ol class=list-inline>\n",
       "\t<li>a</li>\n",
       "\t<li>b</li>\n",
       "\t<li>c</li>\n",
       "\t<li>d</li>\n",
       "\t<li>e</li>\n",
       "\t<li>f</li>\n",
       "\t<li>g</li>\n",
       "\t<li>h</li>\n",
       "\t<li>i</li>\n",
       "\t<li>j</li>\n",
       "\t<li>k</li>\n",
       "\t<li>l</li>\n",
       "\t<li>m</li>\n",
       "\t<li>n</li>\n",
       "\t<li>o</li>\n",
       "\t<li>p</li>\n",
       "\t<li>q</li>\n",
       "\t<li>r</li>\n",
       "\t<li>s</li>\n",
       "\t<li>t</li>\n",
       "\t<li>u</li>\n",
       "\t<li>v</li>\n",
       "\t<li>w</li>\n",
       "\t<li>x</li>\n",
       "\t<li>y</li>\n",
       "\t<li>z</li>\n",
       "</ol>\n"
      ],
      "text/latex": [
       "\\begin{enumerate*}\n",
       "\\item a\n",
       "\\item b\n",
       "\\item c\n",
       "\\item d\n",
       "\\item e\n",
       "\\item f\n",
       "\\item g\n",
       "\\item h\n",
       "\\item i\n",
       "\\item j\n",
       "\\item k\n",
       "\\item l\n",
       "\\item m\n",
       "\\item n\n",
       "\\item o\n",
       "\\item p\n",
       "\\item q\n",
       "\\item r\n",
       "\\item s\n",
       "\\item t\n",
       "\\item u\n",
       "\\item v\n",
       "\\item w\n",
       "\\item x\n",
       "\\item y\n",
       "\\item z\n",
       "\\end{enumerate*}\n"
      ],
      "text/markdown": [
       "1. a\n",
       "2. b\n",
       "3. c\n",
       "4. d\n",
       "5. e\n",
       "6. f\n",
       "7. g\n",
       "8. h\n",
       "9. i\n",
       "10. j\n",
       "11. k\n",
       "12. l\n",
       "13. m\n",
       "14. n\n",
       "15. o\n",
       "16. p\n",
       "17. q\n",
       "18. r\n",
       "19. s\n",
       "20. t\n",
       "21. u\n",
       "22. v\n",
       "23. w\n",
       "24. x\n",
       "25. y\n",
       "26. z\n",
       "\n",
       "\n"
      ],
      "text/plain": [
       " [1] a b c d e f g h i j k l m n o p q r s t u v w x y z\n",
       "Levels: a b c d e f g h i j k l m n o p q r s t u v w x y z"
      ]
     },
     "metadata": {},
     "output_type": "display_data"
    },
    {
     "data": {
      "text/html": [
       "<ol class=list-inline>\n",
       "\t<li>\"a\"</li>\n",
       "\t<li>\"b\"</li>\n",
       "\t<li>\"c\"</li>\n",
       "\t<li>\"d\"</li>\n",
       "\t<li>\"e\"</li>\n",
       "\t<li>\"f\"</li>\n",
       "\t<li>\"g\"</li>\n",
       "\t<li>\"h\"</li>\n",
       "\t<li>\"i\"</li>\n",
       "\t<li>\"j\"</li>\n",
       "\t<li>\"k\"</li>\n",
       "\t<li>\"l\"</li>\n",
       "\t<li>\"m\"</li>\n",
       "\t<li>\"n\"</li>\n",
       "\t<li>\"o\"</li>\n",
       "\t<li>\"p\"</li>\n",
       "\t<li>\"q\"</li>\n",
       "\t<li>\"r\"</li>\n",
       "\t<li>\"s\"</li>\n",
       "\t<li>\"t\"</li>\n",
       "\t<li>\"u\"</li>\n",
       "\t<li>\"v\"</li>\n",
       "\t<li>\"w\"</li>\n",
       "\t<li>\"x\"</li>\n",
       "\t<li>\"y\"</li>\n",
       "\t<li>\"z\"</li>\n",
       "</ol>\n"
      ],
      "text/latex": [
       "\\begin{enumerate*}\n",
       "\\item \"a\"\n",
       "\\item \"b\"\n",
       "\\item \"c\"\n",
       "\\item \"d\"\n",
       "\\item \"e\"\n",
       "\\item \"f\"\n",
       "\\item \"g\"\n",
       "\\item \"h\"\n",
       "\\item \"i\"\n",
       "\\item \"j\"\n",
       "\\item \"k\"\n",
       "\\item \"l\"\n",
       "\\item \"m\"\n",
       "\\item \"n\"\n",
       "\\item \"o\"\n",
       "\\item \"p\"\n",
       "\\item \"q\"\n",
       "\\item \"r\"\n",
       "\\item \"s\"\n",
       "\\item \"t\"\n",
       "\\item \"u\"\n",
       "\\item \"v\"\n",
       "\\item \"w\"\n",
       "\\item \"x\"\n",
       "\\item \"y\"\n",
       "\\item \"z\"\n",
       "\\end{enumerate*}\n"
      ],
      "text/markdown": [
       "1. \"a\"\n",
       "2. \"b\"\n",
       "3. \"c\"\n",
       "4. \"d\"\n",
       "5. \"e\"\n",
       "6. \"f\"\n",
       "7. \"g\"\n",
       "8. \"h\"\n",
       "9. \"i\"\n",
       "10. \"j\"\n",
       "11. \"k\"\n",
       "12. \"l\"\n",
       "13. \"m\"\n",
       "14. \"n\"\n",
       "15. \"o\"\n",
       "16. \"p\"\n",
       "17. \"q\"\n",
       "18. \"r\"\n",
       "19. \"s\"\n",
       "20. \"t\"\n",
       "21. \"u\"\n",
       "22. \"v\"\n",
       "23. \"w\"\n",
       "24. \"x\"\n",
       "25. \"y\"\n",
       "26. \"z\"\n",
       "\n",
       "\n"
      ],
      "text/plain": [
       " [1] \"a\" \"b\" \"c\" \"d\" \"e\" \"f\" \"g\" \"h\" \"i\" \"j\" \"k\" \"l\" \"m\" \"n\" \"o\" \"p\" \"q\" \"r\" \"s\"\n",
       "[20] \"t\" \"u\" \"v\" \"w\" \"x\" \"y\" \"z\""
      ]
     },
     "metadata": {},
     "output_type": "display_data"
    }
   ],
   "source": [
    "f1 <- factor(letters)\n",
    "f1\n",
    "levels(f1)"
   ]
  },
  {
   "cell_type": "code",
   "execution_count": 9,
   "metadata": {
    "collapsed": false
   },
   "outputs": [
    {
     "data": {
      "text/html": [
       "<ol class=list-inline>\n",
       "\t<li>z</li>\n",
       "\t<li>y</li>\n",
       "\t<li>x</li>\n",
       "\t<li>w</li>\n",
       "\t<li>v</li>\n",
       "\t<li>u</li>\n",
       "\t<li>t</li>\n",
       "\t<li>s</li>\n",
       "\t<li>r</li>\n",
       "\t<li>q</li>\n",
       "\t<li>p</li>\n",
       "\t<li>o</li>\n",
       "\t<li>n</li>\n",
       "\t<li>m</li>\n",
       "\t<li>l</li>\n",
       "\t<li>k</li>\n",
       "\t<li>j</li>\n",
       "\t<li>i</li>\n",
       "\t<li>h</li>\n",
       "\t<li>g</li>\n",
       "\t<li>f</li>\n",
       "\t<li>e</li>\n",
       "\t<li>d</li>\n",
       "\t<li>c</li>\n",
       "\t<li>b</li>\n",
       "\t<li>a</li>\n",
       "</ol>\n"
      ],
      "text/latex": [
       "\\begin{enumerate*}\n",
       "\\item z\n",
       "\\item y\n",
       "\\item x\n",
       "\\item w\n",
       "\\item v\n",
       "\\item u\n",
       "\\item t\n",
       "\\item s\n",
       "\\item r\n",
       "\\item q\n",
       "\\item p\n",
       "\\item o\n",
       "\\item n\n",
       "\\item m\n",
       "\\item l\n",
       "\\item k\n",
       "\\item j\n",
       "\\item i\n",
       "\\item h\n",
       "\\item g\n",
       "\\item f\n",
       "\\item e\n",
       "\\item d\n",
       "\\item c\n",
       "\\item b\n",
       "\\item a\n",
       "\\end{enumerate*}\n"
      ],
      "text/markdown": [
       "1. z\n",
       "2. y\n",
       "3. x\n",
       "4. w\n",
       "5. v\n",
       "6. u\n",
       "7. t\n",
       "8. s\n",
       "9. r\n",
       "10. q\n",
       "11. p\n",
       "12. o\n",
       "13. n\n",
       "14. m\n",
       "15. l\n",
       "16. k\n",
       "17. j\n",
       "18. i\n",
       "19. h\n",
       "20. g\n",
       "21. f\n",
       "22. e\n",
       "23. d\n",
       "24. c\n",
       "25. b\n",
       "26. a\n",
       "\n",
       "\n"
      ],
      "text/plain": [
       " [1] z y x w v u t s r q p o n m l k j i h g f e d c b a\n",
       "Levels: z y x w v u t s r q p o n m l k j i h g f e d c b a"
      ]
     },
     "metadata": {},
     "output_type": "display_data"
    },
    {
     "data": {
      "text/html": [
       "<ol class=list-inline>\n",
       "\t<li>\"z\"</li>\n",
       "\t<li>\"y\"</li>\n",
       "\t<li>\"x\"</li>\n",
       "\t<li>\"w\"</li>\n",
       "\t<li>\"v\"</li>\n",
       "\t<li>\"u\"</li>\n",
       "\t<li>\"t\"</li>\n",
       "\t<li>\"s\"</li>\n",
       "\t<li>\"r\"</li>\n",
       "\t<li>\"q\"</li>\n",
       "\t<li>\"p\"</li>\n",
       "\t<li>\"o\"</li>\n",
       "\t<li>\"n\"</li>\n",
       "\t<li>\"m\"</li>\n",
       "\t<li>\"l\"</li>\n",
       "\t<li>\"k\"</li>\n",
       "\t<li>\"j\"</li>\n",
       "\t<li>\"i\"</li>\n",
       "\t<li>\"h\"</li>\n",
       "\t<li>\"g\"</li>\n",
       "\t<li>\"f\"</li>\n",
       "\t<li>\"e\"</li>\n",
       "\t<li>\"d\"</li>\n",
       "\t<li>\"c\"</li>\n",
       "\t<li>\"b\"</li>\n",
       "\t<li>\"a\"</li>\n",
       "</ol>\n"
      ],
      "text/latex": [
       "\\begin{enumerate*}\n",
       "\\item \"z\"\n",
       "\\item \"y\"\n",
       "\\item \"x\"\n",
       "\\item \"w\"\n",
       "\\item \"v\"\n",
       "\\item \"u\"\n",
       "\\item \"t\"\n",
       "\\item \"s\"\n",
       "\\item \"r\"\n",
       "\\item \"q\"\n",
       "\\item \"p\"\n",
       "\\item \"o\"\n",
       "\\item \"n\"\n",
       "\\item \"m\"\n",
       "\\item \"l\"\n",
       "\\item \"k\"\n",
       "\\item \"j\"\n",
       "\\item \"i\"\n",
       "\\item \"h\"\n",
       "\\item \"g\"\n",
       "\\item \"f\"\n",
       "\\item \"e\"\n",
       "\\item \"d\"\n",
       "\\item \"c\"\n",
       "\\item \"b\"\n",
       "\\item \"a\"\n",
       "\\end{enumerate*}\n"
      ],
      "text/markdown": [
       "1. \"z\"\n",
       "2. \"y\"\n",
       "3. \"x\"\n",
       "4. \"w\"\n",
       "5. \"v\"\n",
       "6. \"u\"\n",
       "7. \"t\"\n",
       "8. \"s\"\n",
       "9. \"r\"\n",
       "10. \"q\"\n",
       "11. \"p\"\n",
       "12. \"o\"\n",
       "13. \"n\"\n",
       "14. \"m\"\n",
       "15. \"l\"\n",
       "16. \"k\"\n",
       "17. \"j\"\n",
       "18. \"i\"\n",
       "19. \"h\"\n",
       "20. \"g\"\n",
       "21. \"f\"\n",
       "22. \"e\"\n",
       "23. \"d\"\n",
       "24. \"c\"\n",
       "25. \"b\"\n",
       "26. \"a\"\n",
       "\n",
       "\n"
      ],
      "text/plain": [
       " [1] \"z\" \"y\" \"x\" \"w\" \"v\" \"u\" \"t\" \"s\" \"r\" \"q\" \"p\" \"o\" \"n\" \"m\" \"l\" \"k\" \"j\" \"i\" \"h\"\n",
       "[20] \"g\" \"f\" \"e\" \"d\" \"c\" \"b\" \"a\""
      ]
     },
     "metadata": {},
     "output_type": "display_data"
    }
   ],
   "source": [
    "levels(f1) <- rev(levels(f1))\n",
    "f1\n",
    "levels(f1)"
   ]
  },
  {
   "cell_type": "markdown",
   "metadata": {},
   "source": [
    "**2) ¿Cómo deberias describir los tres objetos?.**\n",
    "\n",
    "`x1 <- array(1:5, c(1, 1, 5))`  \n",
    "`x2 <- array(1:5, c(1, 5, 1))`  \n",
    "`x3 <- array(1:5, c(5, 1, 1))`  "
   ]
  },
  {
   "cell_type": "code",
   "execution_count": 10,
   "metadata": {
    "collapsed": false
   },
   "outputs": [
    {
     "data": {
      "text/html": [
       "<ol class=list-inline>\n",
       "\t<li>1</li>\n",
       "\t<li>2</li>\n",
       "\t<li>3</li>\n",
       "\t<li>4</li>\n",
       "\t<li>5</li>\n",
       "</ol>\n"
      ],
      "text/latex": [
       "\\begin{enumerate*}\n",
       "\\item 1\n",
       "\\item 2\n",
       "\\item 3\n",
       "\\item 4\n",
       "\\item 5\n",
       "\\end{enumerate*}\n"
      ],
      "text/markdown": [
       "1. 1\n",
       "2. 2\n",
       "3. 3\n",
       "4. 4\n",
       "5. 5\n",
       "\n",
       "\n"
      ],
      "text/plain": [
       ", , 1\n",
       "\n",
       "     [,1]\n",
       "[1,]    1\n",
       "\n",
       ", , 2\n",
       "\n",
       "     [,1]\n",
       "[1,]    2\n",
       "\n",
       ", , 3\n",
       "\n",
       "     [,1]\n",
       "[1,]    3\n",
       "\n",
       ", , 4\n",
       "\n",
       "     [,1]\n",
       "[1,]    4\n",
       "\n",
       ", , 5\n",
       "\n",
       "     [,1]\n",
       "[1,]    5\n"
      ]
     },
     "metadata": {},
     "output_type": "display_data"
    }
   ],
   "source": [
    "x1 <- array(1:5, c(1, 1, 5))\n",
    "x1"
   ]
  },
  {
   "cell_type": "code",
   "execution_count": 11,
   "metadata": {
    "collapsed": false
   },
   "outputs": [
    {
     "data": {
      "text/html": [
       "<ol class=list-inline>\n",
       "\t<li>1</li>\n",
       "\t<li>2</li>\n",
       "\t<li>3</li>\n",
       "\t<li>4</li>\n",
       "\t<li>5</li>\n",
       "</ol>\n"
      ],
      "text/latex": [
       "\\begin{enumerate*}\n",
       "\\item 1\n",
       "\\item 2\n",
       "\\item 3\n",
       "\\item 4\n",
       "\\item 5\n",
       "\\end{enumerate*}\n"
      ],
      "text/markdown": [
       "1. 1\n",
       "2. 2\n",
       "3. 3\n",
       "4. 4\n",
       "5. 5\n",
       "\n",
       "\n"
      ],
      "text/plain": [
       ", , 1\n",
       "\n",
       "     [,1] [,2] [,3] [,4] [,5]\n",
       "[1,]    1    2    3    4    5\n"
      ]
     },
     "metadata": {},
     "output_type": "display_data"
    }
   ],
   "source": [
    "x2 <- array(1:5, c(1, 5, 1))\n",
    "x2"
   ]
  },
  {
   "cell_type": "code",
   "execution_count": 12,
   "metadata": {
    "collapsed": false
   },
   "outputs": [
    {
     "data": {
      "text/html": [
       "<ol class=list-inline>\n",
       "\t<li>1</li>\n",
       "\t<li>2</li>\n",
       "\t<li>3</li>\n",
       "\t<li>4</li>\n",
       "\t<li>5</li>\n",
       "</ol>\n"
      ],
      "text/latex": [
       "\\begin{enumerate*}\n",
       "\\item 1\n",
       "\\item 2\n",
       "\\item 3\n",
       "\\item 4\n",
       "\\item 5\n",
       "\\end{enumerate*}\n"
      ],
      "text/markdown": [
       "1. 1\n",
       "2. 2\n",
       "3. 3\n",
       "4. 4\n",
       "5. 5\n",
       "\n",
       "\n"
      ],
      "text/plain": [
       ", , 1\n",
       "\n",
       "     [,1]\n",
       "[1,]    1\n",
       "[2,]    2\n",
       "[3,]    3\n",
       "[4,]    4\n",
       "[5,]    5\n"
      ]
     },
     "metadata": {},
     "output_type": "display_data"
    }
   ],
   "source": [
    "x3 <- array(1:5, c(5, 1, 1))\n",
    "x3"
   ]
  },
  {
   "cell_type": "markdown",
   "metadata": {},
   "source": [
    "**3) ¿Qué atributos posee un data frame?.**"
   ]
  },
  {
   "cell_type": "code",
   "execution_count": 34,
   "metadata": {
    "collapsed": false
   },
   "outputs": [
    {
     "data": {
      "text/html": [
       "<table>\n",
       "<thead><tr><th></th><th scope=col>n</th><th scope=col>s</th><th scope=col>b</th></tr></thead>\n",
       "<tbody>\n",
       "\t<tr><th scope=row>1</th><td>2 </td><td>aa</td><td>1 </td></tr>\n",
       "\t<tr><th scope=row>2</th><td>3 </td><td>bb</td><td>0 </td></tr>\n",
       "\t<tr><th scope=row>3</th><td>5 </td><td>cc</td><td>1 </td></tr>\n",
       "</tbody>\n",
       "</table>\n"
      ],
      "text/latex": [
       "\\begin{tabular}{r|lll}\n",
       "  & n & s & b\\\\\n",
       "\\hline\n",
       "\t1 & 2  & aa & 1 \\\\\n",
       "\t2 & 3  & bb & 0 \\\\\n",
       "\t3 & 5  & cc & 1 \\\\\n",
       "\\end{tabular}\n"
      ],
      "text/plain": [
       "  n  s     b\n",
       "1 2 aa  TRUE\n",
       "2 3 bb FALSE\n",
       "3 5 cc  TRUE"
      ]
     },
     "metadata": {},
     "output_type": "display_data"
    }
   ],
   "source": [
    "#Creamos un dataframe de ejemplo\n",
    "n = c(2, 3, 5) \n",
    "s = c(\"aa\", \"bb\", \"cc\") \n",
    "b = c(TRUE, FALSE, TRUE) \n",
    "df = data.frame(n, s, b)\n",
    "df"
   ]
  },
  {
   "cell_type": "code",
   "execution_count": 38,
   "metadata": {
    "collapsed": false
   },
   "outputs": [
    {
     "data": {
      "text/html": [
       "<ol class=list-inline>\n",
       "\t<li>\"n\"</li>\n",
       "\t<li>\"s\"</li>\n",
       "\t<li>\"b\"</li>\n",
       "</ol>\n"
      ],
      "text/latex": [
       "\\begin{enumerate*}\n",
       "\\item \"n\"\n",
       "\\item \"s\"\n",
       "\\item \"b\"\n",
       "\\end{enumerate*}\n"
      ],
      "text/markdown": [
       "1. \"n\"\n",
       "2. \"s\"\n",
       "3. \"b\"\n",
       "\n",
       "\n"
      ],
      "text/plain": [
       "[1] \"n\" \"s\" \"b\""
      ]
     },
     "metadata": {},
     "output_type": "display_data"
    },
    {
     "data": {
      "text/html": [
       "<ol class=list-inline>\n",
       "\t<li>\"1\"</li>\n",
       "\t<li>\"2\"</li>\n",
       "\t<li>\"3\"</li>\n",
       "</ol>\n"
      ],
      "text/latex": [
       "\\begin{enumerate*}\n",
       "\\item \"1\"\n",
       "\\item \"2\"\n",
       "\\item \"3\"\n",
       "\\end{enumerate*}\n"
      ],
      "text/markdown": [
       "1. \"1\"\n",
       "2. \"2\"\n",
       "3. \"3\"\n",
       "\n",
       "\n"
      ],
      "text/plain": [
       "[1] \"1\" \"2\" \"3\""
      ]
     },
     "metadata": {},
     "output_type": "display_data"
    },
    {
     "data": {
      "text/html": [
       "\"data.frame\""
      ],
      "text/latex": [
       "\"data.frame\""
      ],
      "text/markdown": [
       "\"data.frame\""
      ],
      "text/plain": [
       "[1] \"data.frame\""
      ]
     },
     "metadata": {},
     "output_type": "display_data"
    }
   ],
   "source": [
    "names(df)\n",
    "row.names(df)\n",
    "class(df)"
   ]
  },
  {
   "cell_type": "markdown",
   "metadata": {},
   "source": [
    "**4) ¿Qué hace as.matrix() cuando se aplica a un data frane con columnas de diferentes tipos?.**"
   ]
  },
  {
   "cell_type": "markdown",
   "metadata": {},
   "source": [
    "**5) ¿Puedes tener un data frame con 0 filas? ¿Qué hay de 0 columnas?.**"
   ]
  },
  {
   "cell_type": "markdown",
   "metadata": {},
   "source": [
    "**6) ¿Qué devuelve dim() cuando se aplica a un vector?**"
   ]
  },
  {
   "cell_type": "markdown",
   "metadata": {},
   "source": [
    "**7) Si is.matrix(x) es TRUE, ¿qué devolverá is.array(x)?.**"
   ]
  },
  {
   "cell_type": "code",
   "execution_count": 31,
   "metadata": {
    "collapsed": false
   },
   "outputs": [
    {
     "data": {
      "text/html": [
       "TRUE"
      ],
      "text/latex": [
       "TRUE"
      ],
      "text/markdown": [
       "TRUE"
      ],
      "text/plain": [
       "[1] TRUE"
      ]
     },
     "metadata": {},
     "output_type": "display_data"
    },
    {
     "data": {
      "text/html": [
       "TRUE"
      ],
      "text/latex": [
       "TRUE"
      ],
      "text/markdown": [
       "TRUE"
      ],
      "text/plain": [
       "[1] TRUE"
      ]
     },
     "metadata": {},
     "output_type": "display_data"
    },
    {
     "data": {
      "text/html": [
       "<ol class=list-inline>\n",
       "\t<li>1</li>\n",
       "\t<li>2</li>\n",
       "\t<li>3</li>\n",
       "</ol>\n"
      ],
      "text/latex": [
       "\\begin{enumerate*}\n",
       "\\item 1\n",
       "\\item 2\n",
       "\\item 3\n",
       "\\end{enumerate*}\n"
      ],
      "text/markdown": [
       "1. 1\n",
       "2. 2\n",
       "3. 3\n",
       "\n",
       "\n"
      ],
      "text/plain": [
       "[1] 1 2 3"
      ]
     },
     "metadata": {},
     "output_type": "display_data"
    }
   ],
   "source": [
    "x<-matrix(0,ncol=2,nrow=3)\n",
    "is.matrix(x)\n",
    "is.array(x)\n",
    "\n",
    "y<-array(c(1,2,3),dim=3)\n",
    "y"
   ]
  },
  {
   "cell_type": "markdown",
   "metadata": {},
   "source": [
    "**8) Cuál es el funcionamiento de `is.vector()` y `is.numeric()y` explica que tiene de diferente con `is.list()` y `is.character()`?.**`"
   ]
  },
  {
   "cell_type": "markdown",
   "metadata": {},
   "source": [
    "**9) ¿ Por qué es `1 == \"1\"` verdad (TRUE)?. Por qué `-1 < FALSE` verdad?, ¿ Por qué `\"one\" < 2` es falso (FALSE)?.**"
   ]
  },
  {
   "cell_type": "code",
   "execution_count": 13,
   "metadata": {
    "collapsed": false
   },
   "outputs": [
    {
     "data": {
      "text/html": [
       "TRUE"
      ],
      "text/latex": [
       "TRUE"
      ],
      "text/markdown": [
       "TRUE"
      ],
      "text/plain": [
       "[1] TRUE"
      ]
     },
     "metadata": {},
     "output_type": "display_data"
    }
   ],
   "source": [
    "#Para los casos mencionados se aplica la propiedad de coercion de los operadores \"==\" y \"<\"\n",
    "\n",
    "#Se aplica la siguiente prioridad para la conversion: logical < integer < numeric < complex < character < list\n",
    "\n",
    "#En el 1er caso, el numero 1 de la izquierda es cambiado a character por lo que la comparacion devuelve TRUE\n",
    "1 == \"1\""
   ]
  },
  {
   "cell_type": "code",
   "execution_count": 16,
   "metadata": {
    "collapsed": false
   },
   "outputs": [
    {
     "data": {
      "text/html": [
       "TRUE"
      ],
      "text/latex": [
       "TRUE"
      ],
      "text/markdown": [
       "TRUE"
      ],
      "text/plain": [
       "[1] TRUE"
      ]
     },
     "metadata": {},
     "output_type": "display_data"
    }
   ],
   "source": [
    "#En el 2do caso, el valor de FALSE de la derecha es cambiado a integer con el valor de 0, por lo que -1 < 0\n",
    "-1 < FALSE"
   ]
  },
  {
   "cell_type": "code",
   "execution_count": 17,
   "metadata": {
    "collapsed": false
   },
   "outputs": [
    {
     "data": {
      "text/html": [
       "FALSE"
      ],
      "text/latex": [
       "FALSE"
      ],
      "text/markdown": [
       "FALSE"
      ],
      "text/plain": [
       "[1] FALSE"
      ]
     },
     "metadata": {},
     "output_type": "display_data"
    }
   ],
   "source": [
    "#En el 3er caso, el valor 2 de la derecha es cambiado al character \"2\", por lo que \"one\" es mayor que \"2\"\n",
    "\"one\" < 2"
   ]
  },
  {
   "cell_type": "markdown",
   "metadata": {},
   "source": [
    "**10) Predice la salida del siguiente código**\n",
    "\n",
    "`c(1, FALSE)`\n",
    "`c(\"a\", 1)`  \n",
    "`c(list(1), \"a\")`  \n",
    "`c(TRUE, 1L)`  "
   ]
  }
 ],
 "metadata": {
  "kernelspec": {
   "display_name": "R",
   "language": "R",
   "name": "ir"
  },
  "language_info": {
   "codemirror_mode": "r",
   "file_extension": ".r",
   "mimetype": "text/x-r-source",
   "name": "R",
   "pygments_lexer": "r",
   "version": "3.3.0"
  }
 },
 "nbformat": 4,
 "nbformat_minor": 2
}
